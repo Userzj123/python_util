{
 "cells": [
  {
   "cell_type": "code",
   "execution_count": 1,
   "id": "25f18b01-9c22-43e7-b677-6a35006177e1",
   "metadata": {},
   "outputs": [],
   "source": [
    "from visualize import *\n",
    "import numpy as np\n",
    "import matplotlib.pyplot as plt"
   ]
  },
  {
   "cell_type": "code",
   "execution_count": 2,
   "id": "4a08fd68-775e-4e52-ad6c-17e68b1e5cab",
   "metadata": {},
   "outputs": [],
   "source": [
    "path = r\"/scratch4/qwang4/ext-zyou6474/channel_flow_scalar_Qi.13126220/outputs/%s\"\n",
    "dims = [256, 256, 128]\n",
    "domain = [2*np.pi, np.pi, 1]"
   ]
  },
  {
   "cell_type": "code",
   "execution_count": 3,
   "id": "572c8b31-fb5b-4a5f-bfe3-b9dfa640898e",
   "metadata": {
    "tags": []
   },
   "outputs": [],
   "source": [
    "# Difine the plotted velocity surface ratio\n",
    "xR, yR, zR = np.array([[0,1], [0.5, 1], [0,1]])\n",
    "\n",
    "# Define plotted theta range\n",
    "thetaR = np.array([0.01, 1])\n"
   ]
  },
  {
   "cell_type": "code",
   "execution_count": 4,
   "id": "22927404-40b5-4fa1-8cbe-b3b0197ad3b5",
   "metadata": {},
   "outputs": [],
   "source": [
    "filename = path % \"u_velocity.%.8i\"\n",
    "with open(filename % 0, 'rb') as f:\n",
    "    U = np.fromfile(f, dtype=np.float64,)\n",
    "\n",
    "U = np.reshape(U, dims)"
   ]
  },
  {
   "cell_type": "code",
   "execution_count": 5,
   "id": "3a1c03ba-41c2-47be-a969-3ceb6c642d04",
   "metadata": {},
   "outputs": [],
   "source": [
    "# Create a canvas to plot the 3D velocity surface"
   ]
  }
 ],
 "metadata": {
  "kernelspec": {
   "display_name": "Python 3 (ipykernel)",
   "language": "python",
   "name": "python3"
  },
  "language_info": {
   "codemirror_mode": {
    "name": "ipython",
    "version": 3
   },
   "file_extension": ".py",
   "mimetype": "text/x-python",
   "name": "python",
   "nbconvert_exporter": "python",
   "pygments_lexer": "ipython3",
   "version": "3.9.0"
  }
 },
 "nbformat": 4,
 "nbformat_minor": 5
}
