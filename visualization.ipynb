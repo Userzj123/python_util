{
 "cells": [
  {
   "cell_type": "code",
   "execution_count": 3,
   "id": "25f18b01-9c22-43e7-b677-6a35006177e1",
   "metadata": {},
   "outputs": [],
   "source": [
    "from visualize import *\n",
    "import numpy as np\n",
    "import matplotlib.pyplot as plt"
   ]
  },
  {
   "cell_type": "code",
   "execution_count": 4,
   "id": "4a08fd68-775e-4e52-ad6c-17e68b1e5cab",
   "metadata": {},
   "outputs": [],
   "source": [
    "path = r\"/scratch4/qwang4/ext-zyou6474/channel_flow_multi_scalar.13980738/outputs/%s\"\n",
    "dims = [256, 256, 128]\n",
    "domain = [2*np.pi, np.pi, 1]"
   ]
  },
  {
   "cell_type": "code",
   "execution_count": 5,
   "id": "572c8b31-fb5b-4a5f-bfe3-b9dfa640898e",
   "metadata": {
    "tags": []
   },
   "outputs": [],
   "source": [
    "# Difine the plotted velocity surface ratio\n",
    "xR, yR, zR = np.array([[0,1], [0.5, 1], [0,1]])\n",
    "\n",
    "# Define plotted theta range\n",
    "thetaR = np.array([0.01, 1])\n"
   ]
  },
  {
   "cell_type": "code",
   "execution_count": 7,
   "id": "24b0fe02-81a7-448e-892e-8013447676e2",
   "metadata": {},
   "outputs": [],
   "source": [
    "Lx, Ly, Lz = domain\n",
    "nx, ny, nz = dims\n",
    "\n",
    "x = np.linspace(0, Lx, nx)\n",
    "y = np.linspace(0, Ly, ny)\n",
    "z = np.linspace(0, Lz, nz)"
   ]
  },
  {
   "cell_type": "code",
   "execution_count": 10,
   "id": "22927404-40b5-4fa1-8cbe-b3b0197ad3b5",
   "metadata": {},
   "outputs": [],
   "source": [
    "filename = path % \"thetas.%.8i\"\n",
    "with open(filename % 0, 'rb') as f:\n",
    "    U = np.fromfile(f, dtype=np.float64,)\n",
    "\n",
    "U = np.reshape(U, dims)"
   ]
  },
  {
   "cell_type": "code",
   "execution_count": 11,
   "id": "3a1c03ba-41c2-47be-a969-3ceb6c642d04",
   "metadata": {},
   "outputs": [
    {
     "ename": "SyntaxError",
     "evalue": "invalid syntax (2915907693.py, line 9)",
     "output_type": "error",
     "traceback": [
      "\u001b[0;36m  Input \u001b[0;32mIn [11]\u001b[0;36m\u001b[0m\n\u001b[0;31m    Y =\u001b[0m\n\u001b[0m        ^\u001b[0m\n\u001b[0;31mSyntaxError\u001b[0m\u001b[0;31m:\u001b[0m invalid syntax\n"
     ]
    }
   ],
   "source": [
    "# Create a 3D plot\n",
    "fig = plt.figure()\n",
    "ax = fig.add_subplot(111, projection='3d')\n",
    "\n",
    "# Define the X and Y arrays\n",
    "X, Z = np.meshgrid(x, z)\n",
    "\n",
    "# Evaluate the function at each (X, Y) point\n",
    "Y = \n",
    "\n",
    "# Plot the surface\n",
    "ax.plot_surface(X, Y, Z)\n",
    "\n",
    "# Add a contour to the plot\n",
    "ax.contour(X, Y, Z, offset=-2, cmap='coolwarm')\n",
    "\n",
    "# Set the plot limits and labels\n",
    "ax.set_xlim(-5, 5)\n",
    "ax.set_ylim(-5, 5)\n",
    "ax.set_zlim(-2, 2)\n",
    "ax.set_xlabel('X')\n",
    "ax.set_ylabel('Y')\n",
    "ax.set_zlabel('Z')\n",
    "\n",
    "# Show the plot\n",
    "plt.show()"
   ]
  },
  {
   "cell_type": "code",
   "execution_count": null,
   "id": "5044f54e-8be6-4d50-8604-dd5d4a0e3b08",
   "metadata": {},
   "outputs": [],
   "source": []
  }
 ],
 "metadata": {
  "kernelspec": {
   "display_name": "Python 3 (ipykernel)",
   "language": "python",
   "name": "python3"
  },
  "language_info": {
   "codemirror_mode": {
    "name": "ipython",
    "version": 3
   },
   "file_extension": ".py",
   "mimetype": "text/x-python",
   "name": "python",
   "nbconvert_exporter": "python",
   "pygments_lexer": "ipython3",
   "version": "3.9.0"
  }
 },
 "nbformat": 4,
 "nbformat_minor": 5
}
