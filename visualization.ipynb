{
 "cells": [
  {
   "cell_type": "code",
   "execution_count": 3,
   "id": "25f18b01-9c22-43e7-b677-6a35006177e1",
   "metadata": {},
   "outputs": [],
   "source": [
    "from visualize import *\n",
    "import numpy as np\n",
    "import matplotlib.pyplot as plt\n",
    "from generate_field import *"
   ]
  },
  {
   "cell_type": "code",
   "execution_count": 4,
   "id": "4a08fd68-775e-4e52-ad6c-17e68b1e5cab",
   "metadata": {},
   "outputs": [],
   "source": [
    "path = r\"/home/zyou6474/tasks/channel_flow/%s\"\n",
    "dims = [128, 128, 64]\n",
    "domain = [2*np.pi, np.pi, 1]"
   ]
  },
  {
   "cell_type": "code",
   "execution_count": 5,
   "id": "572c8b31-fb5b-4a5f-bfe3-b9dfa640898e",
   "metadata": {
    "tags": []
   },
   "outputs": [],
   "source": [
    "# Difine the plotted velocity surface ratio\n",
    "xR, yR, zR = np.array([[0,1], [0.5, 1], [0,1]])\n",
    "\n",
    "# Define plotted theta range\n",
    "thetaR = np.array([0.01, 1])\n"
   ]
  },
  {
   "cell_type": "code",
   "execution_count": 6,
   "id": "24b0fe02-81a7-448e-892e-8013447676e2",
   "metadata": {},
   "outputs": [],
   "source": [
    "Lx, Ly, Lz = domain\n",
    "nx, ny, nz = dims\n",
    "\n",
    "x = np.linspace(0, Lx, nx)\n",
    "y = np.linspace(0, Ly, ny)\n",
    "z = np.linspace(0, Lz, nz)"
   ]
  },
  {
   "cell_type": "code",
   "execution_count": 17,
   "id": "22927404-40b5-4fa1-8cbe-b3b0197ad3b5",
   "metadata": {},
   "outputs": [],
   "source": [
    "filename = path % \"inputs/theta.IC.03\"\n",
    "U = read_array_from_file(filename, [-1])"
   ]
  },
  {
   "cell_type": "code",
   "execution_count": 18,
   "id": "fc0b0e70",
   "metadata": {},
   "outputs": [
    {
     "data": {
      "text/plain": [
       "(8388608,)"
      ]
     },
     "execution_count": 18,
     "metadata": {},
     "output_type": "execute_result"
    }
   ],
   "source": [
    "U.shape"
   ]
  },
  {
   "cell_type": "code",
   "execution_count": 7,
   "id": "78c7ef75",
   "metadata": {},
   "outputs": [
    {
     "data": {
      "text/plain": [
       "<matplotlib.contour.QuadContourSet at 0x7fab5f29dc18>"
      ]
     },
     "execution_count": 7,
     "metadata": {},
     "output_type": "execute_result"
    },
    {
     "data": {
      "image/png": "[encoded data removed]",
      "text/plain": [
       "<Figure size 432x288 with 1 Axes>"
      ]
     },
     "metadata": {
      "needs_background": "light"
     },
     "output_type": "display_data"
    }
   ],
   "source": [
    "fig, ax = plt.subplots()\n",
    "ax.contourf(y, x, U[:, :, 64])"
   ]
  },
  {
   "cell_type": "code",
   "execution_count": 14,
   "id": "3a1c03ba-41c2-47be-a969-3ceb6c642d04",
   "metadata": {},
   "outputs": [
    {
     "ename": "SyntaxError",
     "evalue": "invalid syntax (<ipython-input-14-a729464a6b20>, line 9)",
     "output_type": "error",
     "traceback": [
      "\u001b[0;36m  File \u001b[0;32m\"<ipython-input-14-a729464a6b20>\"\u001b[0;36m, line \u001b[0;32m9\u001b[0m\n\u001b[0;31m    Y =\u001b[0m\n\u001b[0m        ^\u001b[0m\n\u001b[0;31mSyntaxError\u001b[0m\u001b[0;31m:\u001b[0m invalid syntax\n"
     ]
    }
   ],
   "source": [
    "# Create a 3D plot\n",
    "fig = plt.figure()\n",
    "ax = fig.add_subplot(111, projection='3d')\n",
    "\n",
    "# Define the X and Y arrays\n",
    "X, Z = np.meshgrid(x, z)\n",
    "\n",
    "# Evaluate the function at each (X, Y) point\n",
    "Y = \n",
    "\n",
    "# Plot the surface\n",
    "ax.plot_surface(X, Y, Z)\n",
    "\n",
    "# Add a contour to the plot\n",
    "ax.contour(X, Y, Z, offset=-2, cmap='coolwarm')\n",
    "\n",
    "# Set the plot limits and labels\n",
    "ax.set_xlim(-5, 5)\n",
    "ax.set_ylim(-5, 5)\n",
    "ax.set_zlim(-2, 2)\n",
    "ax.set_xlabel('X')\n",
    "ax.set_ylabel('Y')\n",
    "ax.set_zlabel('Z')\n",
    "\n",
    "# Show the plot\n",
    "plt.show()"
   ]
  },
  {
   "cell_type": "code",
   "execution_count": null,
   "id": "5044f54e-8be6-4d50-8604-dd5d4a0e3b08",
   "metadata": {},
   "outputs": [],
   "source": []
  }
 ],
 "metadata": {
  "kernelspec": {
   "display_name": "Python 3",
   "language": "python",
   "name": "python3"
  },
  "language_info": {
   "codemirror_mode": {
    "name": "ipython",
    "version": 3
   },
   "file_extension": ".py",
   "mimetype": "text/x-python",
   "name": "python",
   "nbconvert_exporter": "python",
   "pygments_lexer": "ipython3",
   "version": "3.6.8"
  }
 },
 "nbformat": 4,
 "nbformat_minor": 5
}
