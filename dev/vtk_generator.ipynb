{
 "cells": [
  {
   "cell_type": "code",
   "execution_count": 1,
   "metadata": {},
   "outputs": [],
   "source": [
    "import vtk\n",
    "import numpy as np\n",
    "from vtk.util.numpy_support import vtk_to_numpy, numpy_to_vtk\n",
    "from pyutils.cartesian import coords_xyz\n",
    "from turb.lesgo_utils import read_array_from_file"
   ]
  },
  {
   "cell_type": "code",
   "execution_count": 2,
   "metadata": {},
   "outputs": [
    {
     "name": "stdout",
     "output_type": "stream",
     "text": [
      "Saved VTK RectilinearGrid to ./example_rectilinear_grid.vtr\n"
     ]
    }
   ],
   "source": [
    "root_dir = '/home/zyou6474/tasks/source_inversion/forward'\n",
    "dims = [128, 128, 64]\n",
    "domain = [2*np.pi, np.pi, 1]\n",
    "ind_t = 1e4\n",
    "ind_theta = 1\n",
    "\n",
    "# Define the dimensions of the grid\n",
    "nx, ny, nz = dims\n",
    "\n",
    "# Create the coordinate arrays\n",
    "# x = np.linspace(0, 1, nx)\n",
    "# y = np.linspace(0, 1, ny)\n",
    "# z = np.linspace(0, 1, nz)\n",
    "x, y, z = coords_xyz(domain, dims, center=True, stretch=True)\n",
    "\n",
    "# Create the VTK RectilinearGrid\n",
    "grid = vtk.vtkRectilinearGrid()\n",
    "grid.SetDimensions(nx, ny, nz)\n",
    "grid.SetXCoordinates(numpy_to_vtk(x))\n",
    "grid.SetYCoordinates(numpy_to_vtk(y))\n",
    "grid.SetZCoordinates(numpy_to_vtk(z))\n",
    "\n",
    "# Create some example data to associate with the grid points\n",
    "# data_values = np.random.rand(nx, ny, nz).astype('f').flatten('F')\n",
    "data_values = read_array_from_file(root_dir + \"/output/scalar/theta.%.3i.%.8i\" % (ind_theta, ind_t)).astype('f').flatten('F')\n",
    "\n",
    "# Create a VTK array for the data\n",
    "data_array = vtk.vtkFloatArray()\n",
    "data_array.SetName(\"Scalar %.3i\" % ind_theta)\n",
    "data_array.SetNumberOfComponents(1)\n",
    "data_array.SetArray(data_values, len(data_values), 1)\n",
    "\n",
    "# Add the data array to the grid\n",
    "grid.GetPointData().AddArray(data_array)\n",
    "\n",
    "# Create a VTK writer\n",
    "writer = vtk.vtkXMLRectilinearGridWriter()\n",
    "output_filename = \"./data/theta.%.3i.%.8i.vtr\" % (ind_theta, ind_t)\n",
    "writer.SetFileName(output_filename)\n",
    "\n",
    "# Write the grid to a VTK file\n",
    "writer.SetInputData(grid)\n",
    "writer.Write()\n",
    "\n",
    "print(f\"Saved VTK RectilinearGrid to {output_filename}\")"
   ]
  }
 ],
 "metadata": {
  "kernelspec": {
   "display_name": ".venv",
   "language": "python",
   "name": "python3"
  },
  "language_info": {
   "codemirror_mode": {
    "name": "ipython",
    "version": 3
   },
   "file_extension": ".py",
   "mimetype": "text/x-python",
   "name": "python",
   "nbconvert_exporter": "python",
   "pygments_lexer": "ipython3",
   "version": "3.10.9"
  }
 },
 "nbformat": 4,
 "nbformat_minor": 2
}
