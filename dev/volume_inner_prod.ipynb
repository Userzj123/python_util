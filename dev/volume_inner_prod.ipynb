{
 "cells": [
  {
   "cell_type": "code",
   "execution_count": 3,
   "metadata": {},
   "outputs": [],
   "source": [
    "import matplotlib.pyplot as plt\n",
    "import numpy as np\n",
    "from pyutils.cartesian import coords_xyz\n"
   ]
  },
  {
   "cell_type": "code",
   "execution_count": 6,
   "metadata": {},
   "outputs": [],
   "source": [
    "dims = [128, 128, 64]\n",
    "domain = [2*np.pi, np.pi, 1]\n",
    "\n",
    "iijjkk_dims = dims*1\n",
    "iijjkk_dims = [i+1 for i in iijjkk_dims]\n",
    "\n",
    "coords = coords_xyz(domain, iijjkk_dims, center=False, stretch=True)"
   ]
  },
  {
   "cell_type": "code",
   "execution_count": null,
   "metadata": {},
   "outputs": [],
   "source": [
    "volume = np.zeros(shape=dims)\n",
    "for i in range(dims[0]):\n",
    "    for j in range(dims[1]):\n",
    "        for k in range(dims[2]):\n",
    "            volume[i, j, k] = (coords[0][i+1] - coords[0][i]) * (coords[1][j+1] - coords[1][j]) * (coords[2][k+1] - coords[2][k])"
   ]
  }
 ],
 "metadata": {
  "kernelspec": {
   "display_name": ".venv",
   "language": "python",
   "name": "python3"
  },
  "language_info": {
   "codemirror_mode": {
    "name": "ipython",
    "version": 3
   },
   "file_extension": ".py",
   "mimetype": "text/x-python",
   "name": "python",
   "nbconvert_exporter": "python",
   "pygments_lexer": "ipython3",
   "version": "3.10.9"
  }
 },
 "nbformat": 4,
 "nbformat_minor": 2
}
