{
 "cells": [
  {
   "cell_type": "code",
   "execution_count": 1,
   "id": "465778b5-2cc5-4ffd-a53d-143304ce2e96",
   "metadata": {},
   "outputs": [],
   "source": [
    "from generate_field import *\n",
    "# from visualize import *\n",
    "import numpy as np"
   ]
  },
  {
   "cell_type": "code",
   "execution_count": 2,
   "id": "3b85b94e-d687-4ece-9c24-0fbdecdb5285",
   "metadata": {},
   "outputs": [],
   "source": [
    "dims = [128, 128, 64]\n",
    "domain = [2*np.pi, np.pi, 1]\n",
    "path = '/home/ext-zyou6474/Projects/lesgo_adjoint_tutorial_bundle/tests/2_channel_flow_scalar/inputs/%s'\n",
    "\n",
    "out_dims = [256, 256, 128]\n",
    "out_path = '/scratch4/qwang4/ext-zyou6474/channel_flow_scalar_Qi.13078199/%s'\n",
    "\n",
    "\n",
    "# velocity_IC(domain, dims=out_dims, path=out_path, ic_type=\"interpolation\", base_path=path, base_dim=dims)\n"
   ]
  },
  {
   "cell_type": "code",
   "execution_count": 9,
   "id": "f4a85e1f-4a4c-4c25-91e1-eb5e3541abbd",
   "metadata": {},
   "outputs": [],
   "source": [
    "with open(\"/home/ext-zyou6474/Projects/lesgo_adjoint_tutorial_bundle/tests/2b_channel_flow_scalar_Qi/inputs/theta.IC\", 'rb') as f:\n",
    "    U_f = np.fromfile(f, dtype=np.float64,)\n",
    "\n",
    "U_f = np.reshape(U_f, out_dims[::-1])"
   ]
  },
  {
   "cell_type": "code",
   "execution_count": 11,
   "id": "68094d3f-8e16-443f-9a42-290d7efb6d1e",
   "metadata": {},
   "outputs": [
    {
     "data": {
      "text/plain": [
       "(128, 256, 256)"
      ]
     },
     "execution_count": 11,
     "metadata": {},
     "output_type": "execute_result"
    }
   ],
   "source": [
    "U_f.shape"
   ]
  },
  {
   "cell_type": "code",
   "execution_count": 12,
   "id": "d906c187-b81e-4029-813b-278a21cbd802",
   "metadata": {},
   "outputs": [
    {
     "data": {
      "image/png": "[encoded data removed]",
      "text/plain": [
       "<Figure size 640x480 with 1 Axes>"
      ]
     },
     "metadata": {},
     "output_type": "display_data"
    }
   ],
   "source": [
    "import matplotlib.pyplot as plt\n",
    "fig, ax = plt.subplots()\n",
    "ax.contourf(U_f[32, :, :])\n",
    "fig.show()"
   ]
  },
  {
   "cell_type": "code",
   "execution_count": null,
   "id": "472b5794-65a6-46ca-aca7-e78863f75605",
   "metadata": {},
   "outputs": [],
   "source": [
    "from visualize import *\n",
    "    \n",
    "fig = plot_instantaneous('/scratch4/qwang4/ext-zyou6474/channel_flow_scalar_Qi.13078199/outputs/u_velocity.00000000', out_dims[::-1],)\n",
    "fig.show()"
   ]
  },
  {
   "cell_type": "code",
   "execution_count": null,
   "id": "3241913a-7374-410c-ae1f-a6e7af254eb4",
   "metadata": {},
   "outputs": [],
   "source": []
  }
 ],
 "metadata": {
  "kernelspec": {
   "display_name": "Python 3 (ipykernel)",
   "language": "python",
   "name": "python3"
  },
  "language_info": {
   "codemirror_mode": {
    "name": "ipython",
    "version": 3
   },
   "file_extension": ".py",
   "mimetype": "text/x-python",
   "name": "python",
   "nbconvert_exporter": "python",
   "pygments_lexer": "ipython3",
   "version": "3.9.0"
  }
 },
 "nbformat": 4,
 "nbformat_minor": 5
}
