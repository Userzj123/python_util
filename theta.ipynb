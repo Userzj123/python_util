{
 "cells": [
  {
   "cell_type": "code",
   "execution_count": 1,
   "id": "ab85d19c-6285-45c0-8628-b751661f7aca",
   "metadata": {},
   "outputs": [],
   "source": [
    "from generate_field import *\n",
    "# from visualize import *\n",
    "import numpy as np"
   ]
  },
  {
   "cell_type": "code",
   "execution_count": 2,
   "id": "2444e807-df83-4117-aa57-67f0382e8df5",
   "metadata": {},
   "outputs": [],
   "source": [
    "dims = [128, 128, 64]\n",
    "domain = [2*np.pi, np.pi, 1]\n",
    "path = '/Users/user/Documents/Projects/python_util/inputs/%s'\n",
    "\n",
    "out_dims = [256, 256, 128]\n",
    "out_path = '/Users/user/Documents/Projects/python_util/inputs/%s'"
   ]
  },
  {
   "cell_type": "code",
   "execution_count": 3,
   "id": "61575767",
   "metadata": {},
   "outputs": [],
   "source": [
    "# theta_IC(domain, out_dims, out_path, \"dirac_source\", source_z=64)"
   ]
  },
  {
   "cell_type": "code",
   "execution_count": 4,
   "id": "6ffc91ae-ce38-4264-9cdb-54c11053ccd6",
   "metadata": {},
   "outputs": [
    {
     "name": "stdout",
     "output_type": "stream",
     "text": [
      "gaussian_forward\n",
      "Shape of xx: (256, 256, 128)\n",
      "Shape of yy: (256, 256, 128)\n",
      "Shape of zz: (256, 256, 128)\n",
      "updated theta IC of forward simulation\n"
     ]
    }
   ],
   "source": [
    "theta_IC(domain, out_dims, out_path, \"gaussian_forward\", source_z=64)"
   ]
  },
  {
   "cell_type": "code",
   "execution_count": 8,
   "id": "0be30412-f6c0-4d13-affd-62eb9a9ac468",
   "metadata": {},
   "outputs": [
    {
     "data": {
      "image/png": "[encoded data removed]",
      "text/plain": [
       "<Figure size 900x600 with 1 Axes>"
      ]
     },
     "metadata": {
      "needs_background": "light"
     },
     "output_type": "display_data"
    }
   ],
   "source": [
    "data = read_array_from_file('/Users/user/Documents/Projects/python_util/inputs/theta.00000000', out_dims)\n",
    "fig, ax = plt.subplots(figsize=(6, 4), dpi=150)\n",
    "ax.contourf(y, x, data[:, :, 64])\n",
    "ax.set_aspect('equal', 'box')"
   ]
  },
  {
   "cell_type": "code",
   "execution_count": 7,
   "id": "5d968881-71bc-4532-920f-365b4986e0d4",
   "metadata": {},
   "outputs": [],
   "source": [
    "# Test on Gaussian Forward\n",
    "mu_L=np.array([0.2, 0.5, 0.5])\n",
    "sigma=np.eye(3)*1e-1\n",
    "from scipy.stats import multivariate_normal\n",
    "\n",
    "Lx, Ly, Lz = domain\n",
    "nx, ny, nz = out_dims\n",
    "\n",
    "x = np.linspace(0, Lx, nx)\n",
    "y = np.linspace(0, Ly, ny)\n",
    "z = np.linspace(0, Lz, nz)\n",
    "\n",
    "# X, Y, Z = np.meshgrid(x, y, z, indexing='ij')\n",
    "\n",
    "# xyz = np.column_stack([X.flat, Y.flat, Z.flat])\n",
    "\n",
    "# data = multivariate_normal.pdf(xyz, mean=mu_L*[Lx, Ly, Lz], cov=sigma)\n",
    "\n",
    "# a = data.reshape(X.shape)\n",
    "\n",
    "# write_array_to_file(a, \"data.bin\")\n",
    "\n",
    "# b = read_array_from_file(\"data.bin\", a.shape, dtype=np.float64)\n"
   ]
  },
  {
   "cell_type": "code",
   "execution_count": null,
   "id": "213af417",
   "metadata": {},
   "outputs": [
    {
     "name": "stdout",
     "output_type": "stream",
     "text": [
      "False\n"
     ]
    }
   ],
   "source": [
    "print(np.allclose(a, b))"
   ]
  }
 ],
 "metadata": {
  "kernelspec": {
   "display_name": "Python 3 (ipykernel)",
   "language": "python",
   "name": "python3"
  },
  "language_info": {
   "codemirror_mode": {
    "name": "ipython",
    "version": 3
   },
   "file_extension": ".py",
   "mimetype": "text/x-python",
   "name": "python",
   "nbconvert_exporter": "python",
   "pygments_lexer": "ipython3",
   "version": "3.8.8"
  }
 },
 "nbformat": 4,
 "nbformat_minor": 5
}
