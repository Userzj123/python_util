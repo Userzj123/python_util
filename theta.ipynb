{
 "cells": [
  {
   "cell_type": "code",
   "execution_count": 1,
   "id": "ab85d19c-6285-45c0-8628-b751661f7aca",
   "metadata": {},
   "outputs": [],
   "source": [
    "from generate_field import *\n",
    "# from visualize import *\n",
    "import numpy as np"
   ]
  },
  {
   "cell_type": "code",
   "execution_count": 2,
   "id": "2444e807-df83-4117-aa57-67f0382e8df5",
   "metadata": {},
   "outputs": [],
   "source": [
    "dims = [128, 128, 64]\n",
    "domain = [2*np.pi, np.pi, 1]\n",
    "path = '/home/ext-zyou6474/Projects/lesgo_adjoint_tutorial_bundle/tests/4_channel_flow_multi_scalar/inputs/%s'\n",
    "\n",
    "out_dims = [256, 256, 128]\n",
    "out_path = '/home/ext-zyou6474/Projects/lesgo_adjoint_tutorial_bundle/tests/inputs/turbulence_128_128_64/%s'\n",
    "\n"
   ]
  },
  {
   "cell_type": "code",
   "execution_count": 3,
   "id": "61575767",
   "metadata": {},
   "outputs": [],
   "source": [
    "# theta_IC(domain, out_dims, out_path, \"dirac_source\", source_z=64)"
   ]
  },
  {
   "cell_type": "code",
   "execution_count": 4,
   "id": "6ffc91ae-ce38-4264-9cdb-54c11053ccd6",
   "metadata": {},
   "outputs": [
    {
     "data": {
      "text/plain": [
       "array([0., 0., 0., ..., 0., 0., 0.])"
      ]
     },
     "execution_count": 4,
     "metadata": {},
     "output_type": "execute_result"
    }
   ],
   "source": [
    "write_array_to_file(out_path % 'theta.IC.01', gaussian_ic(domain, dims, mu_L=np.array([0.2, 0.5, 0.5])))\n",
    "write_array_to_file(out_path % 'theta.IC.02', gaussian_ic(domain, dims, mu_L=np.array([0.5, 0.5, 0.5])))\n",
    "write_array_to_file(out_path % 'theta.IC.03', gaussian_ic(domain, dims, mu_L=np.array([0.8, 0.5, 0.5])))"
   ]
  },
  {
   "cell_type": "code",
   "execution_count": 5,
   "id": "3aa538d1-7923-4460-8ac4-37246c52b913",
   "metadata": {},
   "outputs": [],
   "source": [
    "Lx, Ly, Lz = domain\n",
    "nx, ny, nz = dims\n",
    "\n",
    "x = np.linspace(0, Lx, nx)\n",
    "y = np.linspace(0, Ly, ny)\n",
    "z = np.linspace(0, Lz, nz)\n",
    "\n",
    "mu_L=np.array([0.8, 0.5, 0.5])\n",
    "source_location = mu_L*domain\n",
    "sigma = 1e-2"
   ]
  },
  {
   "cell_type": "code",
   "execution_count": 6,
   "id": "0f5cf612-6337-4aec-acca-a727f50d6ece",
   "metadata": {},
   "outputs": [],
   "source": [
    "x0, y0, z0 = source_location\n",
    "theta = np.zeros((nx, ny, nz))\n",
    "\n",
    "\n",
    "for i, xx in enumerate(x):\n",
    "    for j, yy in enumerate(y):\n",
    "        for k, zz in enumerate(z):\n",
    "            theta[i, j, k] = np.exp(-( (xx-x0)**2 + (yy-y0)**2 + (zz-z0)**2 )/sigma**2/2)"
   ]
  },
  {
   "cell_type": "code",
   "execution_count": 7,
   "id": "d4b6797d-e811-4942-b5be-3899f23cbccb",
   "metadata": {},
   "outputs": [
    {
     "name": "stdout",
     "output_type": "stream",
     "text": [
      "saved data with shape of  (256, 256, 128)\n"
     ]
    },
    {
     "data": {
      "text/plain": [
       "array([0., 0., 0., ..., 0., 0., 0.])"
      ]
     },
     "execution_count": 7,
     "metadata": {},
     "output_type": "execute_result"
    }
   ],
   "source": [
    "print(\"saved data with shape of \", theta.shape)\n",
    "filename = out_path % 'theta.IC.03'     \n",
    "theta = theta/theta.max()\n",
    "# with open(filename, \"wb\") as f:\n",
    "#     array_column_major.tofile(f)\n",
    "# theta.tofile(filename)\n",
    "\n",
    "write_array_to_file(filename, theta)"
   ]
  },
  {
   "cell_type": "code",
   "execution_count": 8,
   "id": "0be30412-f6c0-4d13-affd-62eb9a9ac468",
   "metadata": {},
   "outputs": [
    {
     "ename": "FileNotFoundError",
     "evalue": "[Errno 2] No such file or directory: '/home/ext-zyou6474/Projects/lesgo_adjoint_tutorial_bundle/tests/inputs/turbulence_256_256_128/theta.00000000'",
     "output_type": "error",
     "traceback": [
      "\u001b[0;31m---------------------------------------------------------------------------\u001b[0m",
      "\u001b[0;31mFileNotFoundError\u001b[0m                         Traceback (most recent call last)",
      "Input \u001b[0;32mIn [8]\u001b[0m, in \u001b[0;36m<cell line: 1>\u001b[0;34m()\u001b[0m\n\u001b[0;32m----> 1\u001b[0m U \u001b[38;5;241m=\u001b[39m \u001b[43mread_array_from_file\u001b[49m\u001b[43m(\u001b[49m\u001b[43mout_path\u001b[49m\u001b[43m \u001b[49m\u001b[38;5;241;43m%\u001b[39;49m\u001b[43m \u001b[49m\u001b[38;5;124;43m\"\u001b[39;49m\u001b[38;5;124;43mtheta.00000000\u001b[39;49m\u001b[38;5;124;43m\"\u001b[39;49m\u001b[43m,\u001b[49m\u001b[43m \u001b[49m\u001b[43mdims\u001b[49m\u001b[43m)\u001b[49m\n\u001b[1;32m      3\u001b[0m fig, ax \u001b[38;5;241m=\u001b[39m plt\u001b[38;5;241m.\u001b[39msubplots(figsize\u001b[38;5;241m=\u001b[39m(\u001b[38;5;241m6\u001b[39m, \u001b[38;5;241m4\u001b[39m), dpi\u001b[38;5;241m=\u001b[39m\u001b[38;5;241m150\u001b[39m)\n\u001b[1;32m      4\u001b[0m cmap \u001b[38;5;241m=\u001b[39m ax\u001b[38;5;241m.\u001b[39mcontourf(z, y, U[\u001b[38;5;241m25\u001b[39m, :, :])\n",
      "File \u001b[0;32m~/Projects/lesgo_adjoint_tutorial_bundle/scripts/python/generate_field.py:13\u001b[0m, in \u001b[0;36mread_array_from_file\u001b[0;34m(filename, shape, dtype)\u001b[0m\n\u001b[1;32m     11\u001b[0m \u001b[38;5;28;01mdef\u001b[39;00m \u001b[38;5;21mread_array_from_file\u001b[39m(filename, shape, dtype\u001b[38;5;241m=\u001b[39mnp\u001b[38;5;241m.\u001b[39mfloat64):\n\u001b[1;32m     12\u001b[0m     \u001b[38;5;66;03m# Read the flattened array from the binary file\u001b[39;00m\n\u001b[0;32m---> 13\u001b[0m     \u001b[38;5;28;01mwith\u001b[39;00m \u001b[38;5;28;43mopen\u001b[39;49m\u001b[43m(\u001b[49m\u001b[43mfilename\u001b[49m\u001b[43m,\u001b[49m\u001b[43m \u001b[49m\u001b[38;5;124;43m\"\u001b[39;49m\u001b[38;5;124;43mrb\u001b[39;49m\u001b[38;5;124;43m\"\u001b[39;49m\u001b[43m)\u001b[49m \u001b[38;5;28;01mas\u001b[39;00m f:\n\u001b[1;32m     14\u001b[0m         array_column_major \u001b[38;5;241m=\u001b[39m np\u001b[38;5;241m.\u001b[39mfromfile(f, dtype\u001b[38;5;241m=\u001b[39mdtype)\n\u001b[1;32m     16\u001b[0m     \u001b[38;5;66;03m# Reshape the array into its original shape\u001b[39;00m\n",
      "\u001b[0;31mFileNotFoundError\u001b[0m: [Errno 2] No such file or directory: '/home/ext-zyou6474/Projects/lesgo_adjoint_tutorial_bundle/tests/inputs/turbulence_256_256_128/theta.00000000'"
     ]
    }
   ],
   "source": [
    "U = read_array_from_file(out_path % \"theta.00000000\", dims)\n",
    "\n",
    "fig, ax = plt.subplots(figsize=(6, 4), dpi=150)\n",
    "cmap = ax.contourf(z, y, U[25, :, :])\n",
    "ax.set_aspect('equal', 'box')\n",
    "plt.colorbar(cmap)"
   ]
  },
  {
   "cell_type": "code",
   "execution_count": null,
   "id": "44929e48-cc1d-492d-b382-4402d2093b1d",
   "metadata": {
    "tags": []
   },
   "outputs": [],
   "source": [
    "output_dir = '/scratch4/qwang4/ext-zyou6474/channel_flow_multi_scalar.13917974'\n",
    "\n",
    "U_out = read_array_from_file(output_dir+\"/outputs/thetas.00000000\",  [128, 128, 64, 2])\n",
    "fig, ax = plt.subplots(figsize=(6, 4), dpi=150)\n",
    "ax.contourf(z, y, np.log(U_out[32, :, :, 0]))\n",
    "ax.set_aspect('equal', 'box')\n"
   ]
  }
 ],
 "metadata": {
  "kernelspec": {
   "display_name": "Python 3 (ipykernel)",
   "language": "python",
   "name": "python3"
  },
  "language_info": {
   "codemirror_mode": {
    "name": "ipython",
    "version": 3
   },
   "file_extension": ".py",
   "mimetype": "text/x-python",
   "name": "python",
   "nbconvert_exporter": "python",
   "pygments_lexer": "ipython3",
   "version": "3.10.9"
  }
 },
 "nbformat": 4,
 "nbformat_minor": 5
}
