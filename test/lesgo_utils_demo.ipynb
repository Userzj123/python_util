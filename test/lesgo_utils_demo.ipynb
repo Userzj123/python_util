{
 "cells": [
  {
   "cell_type": "code",
   "execution_count": 1,
   "metadata": {},
   "outputs": [],
   "source": [
    "from turb.lesgo_utils import *\n",
    "import numpy as np\n",
    "import matplotlib.pyplot as plt\n",
    "import pyutils.plot_utils as pltutils\n",
    "\n",
    "from pyutils.cartesian import meshgrid"
   ]
  },
  {
   "cell_type": "markdown",
   "metadata": {},
   "source": [
    "# Forward Simulation"
   ]
  },
  {
   "attachments": {},
   "cell_type": "markdown",
   "metadata": {},
   "source": [
    "# Generate IC files in input directory"
   ]
  },
  {
   "cell_type": "code",
   "execution_count": 2,
   "metadata": {},
   "outputs": [],
   "source": [
    "root_dir = '/home/zyou6474/tasks/demo_foward'\n",
    "dims = [128, 128, 64]\n",
    "domain = [2*np.pi, np.pi, 1]\n",
    "t_total = 5000\n",
    "nk = 2\n",
    "tt = np.arange(0, t_total + 1, 100)\n",
    "\n",
    "ldata = lesgo_data(domain, dims, root_dir, ntheta=3)"
   ]
  },
  {
   "cell_type": "code",
   "execution_count": 3,
   "metadata": {},
   "outputs": [
    {
     "name": "stderr",
     "output_type": "stream",
     "text": [
      "fatal: destination path '/home/zyou6474/tasks/demo_foward/lesgo' already exists and is not an empty directory.\n",
      "HEAD is now at 6c4a959... update\n"
     ]
    },
    {
     "name": "stdout",
     "output_type": "stream",
     "text": [
      "\n"
     ]
    },
    {
     "name": "stderr",
     "output_type": "stream",
     "text": [
      "/home/zyou6474/tasks/demo_foward/lesgo/src/input_util.f90(929): warning #6843: A dummy argument with an explicit INTENT(OUT) declaration is not given an explicit value.   [NELEM]\n",
      "subroutine parse_vector_real( string, nelem, vector )\n",
      "--------------------------------------^\n"
     ]
    },
    {
     "name": "stdout",
     "output_type": "stream",
     "text": [
      "-- The Fortran compiler identification is Intel 18.0.2.20180210\n",
      "-- Check for working Fortran compiler: /nas/app/intel/compilers_and_libraries_2018.2.199/linux/bin/intel64/ifort\n",
      "-- Check for working Fortran compiler: /nas/app/intel/compilers_and_libraries_2018.2.199/linux/bin/intel64/ifort  -- works\n",
      "-- Detecting Fortran compiler ABI info\n",
      "-- Detecting Fortran compiler ABI info - done\n",
      "-- Checking whether /nas/app/intel/compilers_and_libraries_2018.2.199/linux/bin/intel64/ifort supports Fortran 90\n",
      "-- Checking whether /nas/app/intel/compilers_and_libraries_2018.2.199/linux/bin/intel64/ifort supports Fortran 90 -- yes\n",
      "-- The C compiler identification is Intel 18.0.2.20180210\n",
      "-- The CXX compiler identification is Intel 18.0.2.20180210\n",
      "-- Check for working C compiler: /nas/app/intel/compilers_and_libraries_2018.2.199/linux/bin/intel64/icc\n",
      "-- Check for working C compiler: /nas/app/intel/compilers_and_libraries_2018.2.199/linux/bin/intel64/icc -- works\n",
      "-- Detecting C compiler ABI info\n",
      "-- Detecting C compiler ABI info - done\n",
      "-- Detecting C compile features\n",
      "-- Detecting C compile features - done\n",
      "-- Check for working CXX compiler: /nas/app/intel/compilers_and_libraries_2018.2.199/linux/bin/intel64/icpc\n",
      "-- Check for working CXX compiler: /nas/app/intel/compilers_and_libraries_2018.2.199/linux/bin/intel64/icpc -- works\n",
      "-- Detecting CXX compiler ABI info\n",
      "-- Detecting CXX compiler ABI info - done\n",
      "-- Detecting CXX compile features\n",
      "-- Detecting CXX compile features - done\n",
      "-- Configuring done\n",
      "-- Generating done\n",
      "-- Build files have been written to: /home/zyou6474/tasks/demo_foward/lesgo/build\n",
      "\u001b[35m\u001b[1mScanning dependencies of target lesgo-mpi-scalars-DA\u001b[0m\n",
      "[  1%] \u001b[32mBuilding Fortran object CMakeFiles/lesgo-mpi-scalars-DA.dir/types.f90.o\u001b[0m\n",
      "[  3%] \u001b[32mBuilding Fortran object CMakeFiles/lesgo-mpi-scalars-DA.dir/param.f90.o\u001b[0m\n",
      "[  5%] \u001b[32mBuilding Fortran object CMakeFiles/lesgo-mpi-scalars-DA.dir/sim_param.f90.o\u001b[0m\n",
      "[  7%] \u001b[32mBuilding Fortran object CMakeFiles/lesgo-mpi-scalars-DA.dir/cfl_util.f90.o\u001b[0m\n",
      "[  8%] \u001b[32mBuilding Fortran object CMakeFiles/lesgo-mpi-scalars-DA.dir/clocks.f90.o\u001b[0m\n",
      "[ 10%] \u001b[32mBuilding Fortran object CMakeFiles/lesgo-mpi-scalars-DA.dir/grid.f90.o\u001b[0m\n",
      "[ 12%] \u001b[32mBuilding Fortran object CMakeFiles/lesgo-mpi-scalars-DA.dir/messages.f90.o\u001b[0m\n",
      "[ 14%] \u001b[32mBuilding Fortran object CMakeFiles/lesgo-mpi-scalars-DA.dir/mpi_defs.f90.o\u001b[0m\n",
      "[ 15%] \u001b[32mBuilding Fortran object CMakeFiles/lesgo-mpi-scalars-DA.dir/functions.f90.o\u001b[0m\n",
      "[ 17%] \u001b[32mBuilding Fortran object CMakeFiles/lesgo-mpi-scalars-DA.dir/pid.f90.o\u001b[0m\n",
      "[ 19%] \u001b[32mBuilding Fortran object CMakeFiles/lesgo-mpi-scalars-DA.dir/coriolis.f90.o\u001b[0m\n",
      "[ 21%] \u001b[32mBuilding Fortran object CMakeFiles/lesgo-mpi-scalars-DA.dir/emul_complex.f90.o\u001b[0m\n",
      "[ 22%] \u001b[32mBuilding Fortran object CMakeFiles/lesgo-mpi-scalars-DA.dir/fft.f90.o\u001b[0m\n",
      "[ 24%] \u001b[32mBuilding Fortran object CMakeFiles/lesgo-mpi-scalars-DA.dir/derivatives.f90.o\u001b[0m\n",
      "[ 26%] \u001b[32mBuilding Fortran object CMakeFiles/lesgo-mpi-scalars-DA.dir/fringe_util.f90.o\u001b[0m\n",
      "[ 28%] \u001b[32mBuilding Fortran object CMakeFiles/lesgo-mpi-scalars-DA.dir/test_filtermodule.f90.o\u001b[0m\n",
      "[ 29%] \u001b[32mBuilding Fortran object CMakeFiles/lesgo-mpi-scalars-DA.dir/iwmles.f90.o\u001b[0m\n",
      "[ 31%] \u001b[32mBuilding Fortran object CMakeFiles/lesgo-mpi-scalars-DA.dir/sgs_param.f90.o\u001b[0m\n",
      "[ 33%] \u001b[32mBuilding Fortran object CMakeFiles/lesgo-mpi-scalars-DA.dir/stat_defs.f90.o\u001b[0m\n",
      "[ 35%] \u001b[32mBuilding Fortran object CMakeFiles/lesgo-mpi-scalars-DA.dir/string_util.f90.o\u001b[0m\n",
      "[ 36%] \u001b[32mBuilding Fortran object CMakeFiles/lesgo-mpi-scalars-DA.dir/time_average.f90.o\u001b[0m\n",
      "[ 38%] \u001b[32mBuilding Fortran object CMakeFiles/lesgo-mpi-scalars-DA.dir/io.f90.o\u001b[0m\n",
      "[ 40%] \u001b[32mBuilding Fortran object CMakeFiles/lesgo-mpi-scalars-DA.dir/scalars_fvm.f90.o\u001b[0m\n",
      "[ 42%] \u001b[32mBuilding Fortran object CMakeFiles/lesgo-mpi-scalars-DA.dir/forcing.f90.o\u001b[0m\n",
      "[ 43%] \u001b[32mBuilding Fortran object CMakeFiles/lesgo-mpi-scalars-DA.dir/input_util.f90.o\u001b[0m\n",
      "[ 45%] \u001b[32mBuilding Fortran object CMakeFiles/lesgo-mpi-scalars-DA.dir/mpi_transpose_mod.f90.o\u001b[0m\n",
      "[ 47%] \u001b[32mBuilding Fortran object CMakeFiles/lesgo-mpi-scalars-DA.dir/sgs_stag_util.f90.o\u001b[0m\n",
      "[ 49%] \u001b[32mBuilding Fortran object CMakeFiles/lesgo-mpi-scalars-DA.dir/convec.f90.o\u001b[0m\n",
      "[ 50%] \u001b[32mBuilding Fortran object CMakeFiles/lesgo-mpi-scalars-DA.dir/divstress_uv.f90.o\u001b[0m\n",
      "[ 52%] \u001b[32mBuilding Fortran object CMakeFiles/lesgo-mpi-scalars-DA.dir/divstress_w.f90.o\u001b[0m\n",
      "[ 54%] \u001b[32mBuilding Fortran object CMakeFiles/lesgo-mpi-scalars-DA.dir/finalize.f90.o\u001b[0m\n",
      "[ 56%] \u001b[32mBuilding Fortran object CMakeFiles/lesgo-mpi-scalars-DA.dir/initial.f90.o\u001b[0m\n",
      "[ 57%] \u001b[32mBuilding Fortran object CMakeFiles/lesgo-mpi-scalars-DA.dir/initialize.f90.o\u001b[0m\n",
      "[ 59%] \u001b[32mBuilding Fortran object CMakeFiles/lesgo-mpi-scalars-DA.dir/interpolag_Sdep.f90.o\u001b[0m\n",
      "[ 61%] \u001b[32mBuilding Fortran object CMakeFiles/lesgo-mpi-scalars-DA.dir/interpolag_Ssim.f90.o\u001b[0m\n",
      "[ 63%] \u001b[32mBuilding Fortran object CMakeFiles/lesgo-mpi-scalars-DA.dir/lagrange_Sdep.f90.o\u001b[0m\n",
      "[ 64%] \u001b[32mBuilding Fortran object CMakeFiles/lesgo-mpi-scalars-DA.dir/lagrange_Ssim.f90.o\u001b[0m\n",
      "[ 66%] \u001b[32mBuilding Fortran object CMakeFiles/lesgo-mpi-scalars-DA.dir/main.f90.o\u001b[0m\n",
      "[ 68%] \u001b[32mBuilding Fortran object CMakeFiles/lesgo-mpi-scalars-DA.dir/param_output.f90.o\u001b[0m\n",
      "[ 70%] \u001b[32mBuilding Fortran object CMakeFiles/lesgo-mpi-scalars-DA.dir/press_stag_array.f90.o\u001b[0m\n",
      "[ 71%] \u001b[32mBuilding Fortran object CMakeFiles/lesgo-mpi-scalars-DA.dir/rmsdiv.f90.o\u001b[0m\n",
      "[ 73%] \u001b[32mBuilding Fortran object CMakeFiles/lesgo-mpi-scalars-DA.dir/scaledep_dynamic.f90.o\u001b[0m\n",
      "[ 75%] \u001b[32mBuilding Fortran object CMakeFiles/lesgo-mpi-scalars-DA.dir/std_dynamic.f90.o\u001b[0m\n",
      "[ 77%] \u001b[32mBuilding Fortran object CMakeFiles/lesgo-mpi-scalars-DA.dir/tridag_array.f90.o\u001b[0m\n",
      "[ 78%] \u001b[32mBuilding Fortran object CMakeFiles/lesgo-mpi-scalars-DA.dir/wallstress.f90.o\u001b[0m\n",
      "[ 80%] \u001b[32mBuilding Fortran object CMakeFiles/lesgo-mpi-scalars-DA.dir/init_random_seed.f90.o\u001b[0m\n",
      "[ 82%] \u001b[32mBuilding Fortran object CMakeFiles/lesgo-mpi-scalars-DA.dir/load_jacobian.f90.o\u001b[0m\n",
      "[ 84%] \u001b[32mBuilding Fortran object CMakeFiles/lesgo-mpi-scalars-DA.dir/load_topography.f90.o\u001b[0m\n",
      "[ 85%] \u001b[32mBuilding Fortran object CMakeFiles/lesgo-mpi-scalars-DA.dir/level_set2.f90.o\u001b[0m\n",
      "[ 87%] \u001b[32mBuilding Fortran object CMakeFiles/lesgo-mpi-scalars-DA.dir/output104.f90.o\u001b[0m\n",
      "[ 89%] \u001b[32mBuilding Fortran object CMakeFiles/lesgo-mpi-scalars-DA.dir/IO_base.f90.o\u001b[0m\n",
      "[ 91%] \u001b[32mBuilding Fortran object CMakeFiles/lesgo-mpi-scalars-DA.dir/IO_pressure.f90.o\u001b[0m\n",
      "[ 92%] \u001b[32mBuilding Fortran object CMakeFiles/lesgo-mpi-scalars-DA.dir/output2.f90.o\u001b[0m\n",
      "[ 94%] \u001b[32mBuilding Fortran object CMakeFiles/lesgo-mpi-scalars-DA.dir/output3.f90.o\u001b[0m\n",
      "[ 96%] \u001b[32mBuilding Fortran object CMakeFiles/lesgo-mpi-scalars-DA.dir/stability.f90.o\u001b[0m\n",
      "[ 98%] \u001b[32mBuilding Fortran object CMakeFiles/lesgo-mpi-scalars-DA.dir/cn_tridag_array_uv.f90.o\u001b[0m\n",
      "[100%] \u001b[32m\u001b[1mLinking Fortran executable lesgo-mpi-scalars-DA\u001b[0m\n",
      "[100%] Built target lesgo-mpi-scalars-DA\n",
      "\n",
      "CompletedProcess(args='cp /home/zyou6474/tasks/demo_foward/lesgo/build/lesgo-mpi-scalars-DA /home/zyou6474/tasks/demo_foward/lesgo/', returncode=0)\n",
      "DOMAIN\n",
      "MODEL\n",
      "TIME\n",
      "FLOW_COND\n",
      "OUTPUT\n",
      "SCALAR\n",
      "LEVEL_SET\n",
      "TURBINES\n",
      "Configs is loaded from /home/zyou6474/tasks/demo_foward/lesgo/src/lesgo.conf\n",
      "Configs is written in /home/zyou6474/tasks/demo_foward/output/configs/config_2023_07_19.ini\n"
     ]
    }
   ],
   "source": [
    "ldata.install_lesgo()"
   ]
  },
  {
   "cell_type": "code",
   "execution_count": 4,
   "metadata": {},
   "outputs": [
    {
     "name": "stdout",
     "output_type": "stream",
     "text": [
      "Configs is written in ./test.ini\n"
     ]
    }
   ],
   "source": [
    "ldata._write_conf('./test.ini')"
   ]
  },
  {
   "cell_type": "code",
   "execution_count": 5,
   "metadata": {},
   "outputs": [
    {
     "name": "stdout",
     "output_type": "stream",
     "text": [
      "write data into /home/zyou6474/tasks/demo_foward/inputs/u_velocity.IC\n",
      "write data into /home/zyou6474/tasks/demo_foward/inputs/v_velocity.IC\n",
      "write data into /home/zyou6474/tasks/demo_foward/inputs/w_velocity.IC\n",
      "write data into /home/zyou6474/tasks/demo_foward/inputs/theta.IC.001\n",
      "Configs is written in /home/zyou6474/tasks/demo_foward/inputs/lesgo.conf\n"
     ]
    }
   ],
   "source": [
    "# Read previous velocity field as Initial Condition\n",
    "ldata.read_inputs('/home/zyou6474/Projects/lesgo_adjoint_tutorial_bundle/tests/inputs/turbulence_128_128_64')\n",
    "\n",
    "# Create Unit Gaussian Pulse Field as Initial Condition\n",
    "mesh = meshgrid(domain, dims)\n",
    "thetaic_shape = dims*1\n",
    "thetaic_shape.insert(0, 1)\n",
    "thetaic_shape = tuple(thetaic_shape)\n",
    "ldata.data['theta_ic'] = np.empty(shape = thetaic_shape) \n",
    "ldata.data['theta_ic'][0] = unit_gaussian(mesh, [1, 1, 0.5], 1e-1)\n",
    "\n",
    "# Switch off Scalar source\n",
    "ldata.config['SCALAR']['source_opt'] = '0'\n",
    "ldata._fnames(fmt_ntheta='%.3i')\n",
    "ldata.write_inputs()"
   ]
  },
  {
   "cell_type": "code",
   "execution_count": 6,
   "metadata": {},
   "outputs": [],
   "source": [
    "# ldata.gaussian_field(fieldname = 'theta.IC', nk=1, source_point = [np.pi*5/3, np.pi/2, 1/2], gen_fig=False, variance=1e-2)\n",
    "# ldata.gaussian_field(fieldname = 'theta.IC', nk=2, source_point = [np.pi*5/3, np.pi/2, 1/3], gen_fig=False, variance=1e-2)\n",
    "# ldata.gaussian_field(fieldname = 'theta.IC', nk=3, source_point = [np.pi*5/3, np.pi/2, 2/3], gen_fig=True, variance=1e-2)"
   ]
  },
  {
   "cell_type": "markdown",
   "metadata": {},
   "source": [
    "Change the output format through lesgo_data._fnames"
   ]
  },
  {
   "cell_type": "code",
   "execution_count": 7,
   "metadata": {},
   "outputs": [
    {
     "name": "stdout",
     "output_type": "stream",
     "text": [
      "write data into /home/zyou6474/tasks/demo_foward/inputs/theta.IC.001\n",
      "write data into /home/zyou6474/tasks/demo_foward/inputs/theta.IC.002\n",
      "write data into /home/zyou6474/tasks/demo_foward/inputs/theta.IC.003\n",
      "write data into /home/zyou6474/tasks/demo_foward/inputs/source.001\n",
      "write data into /home/zyou6474/tasks/demo_foward/inputs/source.002\n"
     ]
    },
    {
     "ename": "KeyboardInterrupt",
     "evalue": "",
     "output_type": "error",
     "traceback": [
      "\u001b[0;31m---------------------------------------------------------------------------\u001b[0m",
      "\u001b[0;31mKeyboardInterrupt\u001b[0m                         Traceback (most recent call last)",
      "Cell \u001b[0;32mIn[7], line 7\u001b[0m\n\u001b[1;32m      5\u001b[0m ldata\u001b[39m.\u001b[39mgaussian_field(fieldname \u001b[39m=\u001b[39m \u001b[39m'\u001b[39m\u001b[39msource\u001b[39m\u001b[39m'\u001b[39m, nk\u001b[39m=\u001b[39m\u001b[39m1\u001b[39m, source_point \u001b[39m=\u001b[39m [np\u001b[39m.\u001b[39mpi\u001b[39m*\u001b[39m\u001b[39m1\u001b[39m\u001b[39m/\u001b[39m\u001b[39m3\u001b[39m, np\u001b[39m.\u001b[39mpi\u001b[39m/\u001b[39m\u001b[39m2\u001b[39m, \u001b[39m1\u001b[39m\u001b[39m/\u001b[39m\u001b[39m2\u001b[39m], gen_fig\u001b[39m=\u001b[39m\u001b[39mFalse\u001b[39;00m, variance\u001b[39m=\u001b[39m\u001b[39m5e-2\u001b[39m)\n\u001b[1;32m      6\u001b[0m ldata\u001b[39m.\u001b[39mgaussian_field(fieldname \u001b[39m=\u001b[39m \u001b[39m'\u001b[39m\u001b[39msource\u001b[39m\u001b[39m'\u001b[39m, nk\u001b[39m=\u001b[39m\u001b[39m2\u001b[39m, source_point \u001b[39m=\u001b[39m [np\u001b[39m.\u001b[39mpi\u001b[39m*\u001b[39m\u001b[39m1\u001b[39m\u001b[39m/\u001b[39m\u001b[39m2\u001b[39m, np\u001b[39m.\u001b[39mpi\u001b[39m/\u001b[39m\u001b[39m2\u001b[39m, \u001b[39m1\u001b[39m\u001b[39m/\u001b[39m\u001b[39m2\u001b[39m], gen_fig\u001b[39m=\u001b[39m\u001b[39mFalse\u001b[39;00m, variance\u001b[39m=\u001b[39m\u001b[39m5e-2\u001b[39m)\n\u001b[0;32m----> 7\u001b[0m ldata\u001b[39m.\u001b[39;49mgaussian_field(fieldname \u001b[39m=\u001b[39;49m \u001b[39m'\u001b[39;49m\u001b[39msource\u001b[39;49m\u001b[39m'\u001b[39;49m, nk\u001b[39m=\u001b[39;49m\u001b[39m3\u001b[39;49m, source_point \u001b[39m=\u001b[39;49m [np\u001b[39m.\u001b[39;49mpi\u001b[39m*\u001b[39;49m\u001b[39m2\u001b[39;49m\u001b[39m/\u001b[39;49m\u001b[39m3\u001b[39;49m, np\u001b[39m.\u001b[39;49mpi\u001b[39m/\u001b[39;49m\u001b[39m2\u001b[39;49m, \u001b[39m1\u001b[39;49m\u001b[39m/\u001b[39;49m\u001b[39m2\u001b[39;49m], gen_fig\u001b[39m=\u001b[39;49m\u001b[39mTrue\u001b[39;49;00m, variance\u001b[39m=\u001b[39;49m\u001b[39m5e-2\u001b[39;49m)\n",
      "File \u001b[0;32m~/.venv/lib/python3.10/site-packages/python_utils-0.1.0-py3.10.egg/turb/lesgo_utils.py:815\u001b[0m, in \u001b[0;36mlesgo_data.gaussian_field\u001b[0;34m(self, **kwargs)\u001b[0m\n\u001b[1;32m    813\u001b[0m     \u001b[39mfor\u001b[39;00m j, yy \u001b[39min\u001b[39;00m \u001b[39menumerate\u001b[39m(y):\n\u001b[1;32m    814\u001b[0m         \u001b[39mfor\u001b[39;00m k, zz \u001b[39min\u001b[39;00m \u001b[39menumerate\u001b[39m(z):\n\u001b[0;32m--> 815\u001b[0m                 data[i, j, k] \u001b[39m=\u001b[39m np\u001b[39m.\u001b[39;49mexp(\u001b[39m-\u001b[39;49m( (xx\u001b[39m-\u001b[39;49mx0)\u001b[39m*\u001b[39;49m\u001b[39m*\u001b[39;49m\u001b[39m2\u001b[39;49m\u001b[39m*\u001b[39;49mx_homo \u001b[39m+\u001b[39;49m (yy\u001b[39m-\u001b[39;49my0)\u001b[39m*\u001b[39;49m\u001b[39m*\u001b[39;49m\u001b[39m2\u001b[39;49m\u001b[39m*\u001b[39;49my_homo \u001b[39m+\u001b[39;49m (zz\u001b[39m-\u001b[39;49mz0)\u001b[39m*\u001b[39;49m\u001b[39m*\u001b[39;49m\u001b[39m2\u001b[39;49m\u001b[39m*\u001b[39;49mz_homo )\u001b[39m/\u001b[39;49mkwargs[\u001b[39m'\u001b[39;49m\u001b[39mvariance\u001b[39;49m\u001b[39m'\u001b[39;49m]\u001b[39m*\u001b[39;49m\u001b[39m*\u001b[39;49m\u001b[39m2\u001b[39;49m\u001b[39m/\u001b[39;49m\u001b[39m2\u001b[39;49m)\n\u001b[1;32m    816\u001b[0m data \u001b[39m=\u001b[39m data\u001b[39m/\u001b[39mdata\u001b[39m.\u001b[39mmax()\n\u001b[1;32m    819\u001b[0m fname \u001b[39m=\u001b[39m (kwargs[\u001b[39m'\u001b[39m\u001b[39minput_dir\u001b[39m\u001b[39m'\u001b[39m] \u001b[39m+\u001b[39m \u001b[39m'\u001b[39m\u001b[39m/\u001b[39m\u001b[39m%s\u001b[39;00m\u001b[39m.\u001b[39m\u001b[39m'\u001b[39m \u001b[39m+\u001b[39m \u001b[39mself\u001b[39m\u001b[39m.\u001b[39mfmt_kwargs[\u001b[39m'\u001b[39m\u001b[39mfmt_ntheta\u001b[39m\u001b[39m'\u001b[39m]) \u001b[39m%\u001b[39m(kwargs[\u001b[39m'\u001b[39m\u001b[39mfieldname\u001b[39m\u001b[39m'\u001b[39m], kwargs[\u001b[39m'\u001b[39m\u001b[39mnk\u001b[39m\u001b[39m'\u001b[39m])\n",
      "\u001b[0;31mKeyboardInterrupt\u001b[0m: "
     ]
    }
   ],
   "source": [
    "\n",
    "# ldata.constant_field(fieldname = 'theta.IC', nk=1, gen_fig=False)\n",
    "# ldata.constant_field(fieldname = 'theta.IC', nk=2, gen_fig=False)\n",
    "# ldata.constant_field(fieldname = 'theta.IC', nk=3, gen_fig=True)\n",
    "# ldata.gaussian_field(fieldname = 'source', nk=1, source_point = [np.pi*1/3, np.pi/2, 1/2], gen_fig=False, variance=5e-2)\n",
    "# ldata.gaussian_field(fieldname = 'source', nk=2, source_point = [np.pi*1/2, np.pi/2, 1/2], gen_fig=False, variance=5e-2)\n",
    "# ldata.gaussian_field(fieldname = 'source', nk=3, source_point = [np.pi*2/3, np.pi/2, 1/2], gen_fig=True, variance=5e-2)"
   ]
  },
  {
   "cell_type": "markdown",
   "metadata": {},
   "source": [
    "## Read data from forward simulation"
   ]
  },
  {
   "cell_type": "code",
   "execution_count": null,
   "metadata": {},
   "outputs": [
    {
     "data": {
      "text/plain": [
       "(3, 128, 128, 64)"
      ]
     },
     "execution_count": 5,
     "metadata": {},
     "output_type": "execute_result"
    }
   ],
   "source": [
    "ldata.read_data(t_ind=1)\n",
    "ldata.data['theta'].shape"
   ]
  },
  {
   "cell_type": "markdown",
   "metadata": {},
   "source": [
    "## Read data at given sensor locations from simulation results"
   ]
  },
  {
   "cell_type": "code",
   "execution_count": null,
   "metadata": {},
   "outputs": [],
   "source": [
    "from matplotlib import cm, colors\n",
    "# Sensor Location\n",
    "sx = (5/3*np.pi, 5/3*np.pi, 5/3*np.pi)\n",
    "sy = (1/2*np.pi, 1/2*np.pi, 1/2*np.pi)\n",
    "sz = (1/2, 1/3, 2/3)\n",
    "\n",
    "sensor_locs = (sx, sy, sz)"
   ]
  },
  {
   "cell_type": "code",
   "execution_count": null,
   "metadata": {},
   "outputs": [
    {
     "name": "stdout",
     "output_type": "stream",
     "text": [
      "gif written in ./result_002_2023_07_10.gif\n"
     ]
    }
   ],
   "source": [
    "ldata.sensor_measurements(sensor_locs, tt, vmin=1e-3, vmax=1e-1, norm=colors.AsinhNorm, gen_gif=True, nk = nk)"
   ]
  },
  {
   "cell_type": "markdown",
   "metadata": {},
   "source": [
    "# Backward Simulation"
   ]
  },
  {
   "cell_type": "code",
   "execution_count": null,
   "metadata": {},
   "outputs": [
    {
     "name": "stdout",
     "output_type": "stream",
     "text": [
      "write data into /home/zyou6474/tasks/demo_adjoint/inputs/source.001\n",
      "write data into /home/zyou6474/tasks/demo_adjoint/inputs/source.002\n",
      "write data into /home/zyou6474/tasks/demo_adjoint/inputs/source.003\n",
      "write data into /home/zyou6474/tasks/demo_adjoint/inputs/source.001\n",
      "write data into /home/zyou6474/tasks/demo_adjoint/inputs/source.002\n",
      "write data into /home/zyou6474/tasks/demo_adjoint/inputs/source.003\n",
      "write data into /home/zyou6474/tasks/demo_adjoint/inputs/theta.IC.001\n",
      "write data into /home/zyou6474/tasks/demo_adjoint/inputs/theta.IC.002\n",
      "write data into /home/zyou6474/tasks/demo_adjoint/inputs/theta.IC.003\n",
      "write data into /home/zyou6474/tasks/demo_adjoint/inputs/theta.IC.001\n",
      "write data into /home/zyou6474/tasks/demo_adjoint/inputs/theta.IC.002\n",
      "write data into /home/zyou6474/tasks/demo_adjoint/inputs/theta.IC.003\n"
     ]
    },
    {
     "data": {
      "text/plain": [
       "[array([[[0., 0., 0., ..., 0., 0., 0.],\n",
       "         [0., 0., 0., ..., 0., 0., 0.],\n",
       "         [0., 0., 0., ..., 0., 0., 0.],\n",
       "         ...,\n",
       "         [0., 0., 0., ..., 0., 0., 0.],\n",
       "         [0., 0., 0., ..., 0., 0., 0.],\n",
       "         [0., 0., 0., ..., 0., 0., 0.]],\n",
       " \n",
       "        [[0., 0., 0., ..., 0., 0., 0.],\n",
       "         [0., 0., 0., ..., 0., 0., 0.],\n",
       "         [0., 0., 0., ..., 0., 0., 0.],\n",
       "         ...,\n",
       "         [0., 0., 0., ..., 0., 0., 0.],\n",
       "         [0., 0., 0., ..., 0., 0., 0.],\n",
       "         [0., 0., 0., ..., 0., 0., 0.]],\n",
       " \n",
       "        [[0., 0., 0., ..., 0., 0., 0.],\n",
       "         [0., 0., 0., ..., 0., 0., 0.],\n",
       "         [0., 0., 0., ..., 0., 0., 0.],\n",
       "         ...,\n",
       "         [0., 0., 0., ..., 0., 0., 0.],\n",
       "         [0., 0., 0., ..., 0., 0., 0.],\n",
       "         [0., 0., 0., ..., 0., 0., 0.]],\n",
       " \n",
       "        ...,\n",
       " \n",
       "        [[0., 0., 0., ..., 0., 0., 0.],\n",
       "         [0., 0., 0., ..., 0., 0., 0.],\n",
       "         [0., 0., 0., ..., 0., 0., 0.],\n",
       "         ...,\n",
       "         [0., 0., 0., ..., 0., 0., 0.],\n",
       "         [0., 0., 0., ..., 0., 0., 0.],\n",
       "         [0., 0., 0., ..., 0., 0., 0.]],\n",
       " \n",
       "        [[0., 0., 0., ..., 0., 0., 0.],\n",
       "         [0., 0., 0., ..., 0., 0., 0.],\n",
       "         [0., 0., 0., ..., 0., 0., 0.],\n",
       "         ...,\n",
       "         [0., 0., 0., ..., 0., 0., 0.],\n",
       "         [0., 0., 0., ..., 0., 0., 0.],\n",
       "         [0., 0., 0., ..., 0., 0., 0.]],\n",
       " \n",
       "        [[0., 0., 0., ..., 0., 0., 0.],\n",
       "         [0., 0., 0., ..., 0., 0., 0.],\n",
       "         [0., 0., 0., ..., 0., 0., 0.],\n",
       "         ...,\n",
       "         [0., 0., 0., ..., 0., 0., 0.],\n",
       "         [0., 0., 0., ..., 0., 0., 0.],\n",
       "         [0., 0., 0., ..., 0., 0., 0.]]]),\n",
       " array([[[0., 0., 0., ..., 0., 0., 0.],\n",
       "         [0., 0., 0., ..., 0., 0., 0.],\n",
       "         [0., 0., 0., ..., 0., 0., 0.],\n",
       "         ...,\n",
       "         [0., 0., 0., ..., 0., 0., 0.],\n",
       "         [0., 0., 0., ..., 0., 0., 0.],\n",
       "         [0., 0., 0., ..., 0., 0., 0.]],\n",
       " \n",
       "        [[0., 0., 0., ..., 0., 0., 0.],\n",
       "         [0., 0., 0., ..., 0., 0., 0.],\n",
       "         [0., 0., 0., ..., 0., 0., 0.],\n",
       "         ...,\n",
       "         [0., 0., 0., ..., 0., 0., 0.],\n",
       "         [0., 0., 0., ..., 0., 0., 0.],\n",
       "         [0., 0., 0., ..., 0., 0., 0.]],\n",
       " \n",
       "        [[0., 0., 0., ..., 0., 0., 0.],\n",
       "         [0., 0., 0., ..., 0., 0., 0.],\n",
       "         [0., 0., 0., ..., 0., 0., 0.],\n",
       "         ...,\n",
       "         [0., 0., 0., ..., 0., 0., 0.],\n",
       "         [0., 0., 0., ..., 0., 0., 0.],\n",
       "         [0., 0., 0., ..., 0., 0., 0.]],\n",
       " \n",
       "        ...,\n",
       " \n",
       "        [[0., 0., 0., ..., 0., 0., 0.],\n",
       "         [0., 0., 0., ..., 0., 0., 0.],\n",
       "         [0., 0., 0., ..., 0., 0., 0.],\n",
       "         ...,\n",
       "         [0., 0., 0., ..., 0., 0., 0.],\n",
       "         [0., 0., 0., ..., 0., 0., 0.],\n",
       "         [0., 0., 0., ..., 0., 0., 0.]],\n",
       " \n",
       "        [[0., 0., 0., ..., 0., 0., 0.],\n",
       "         [0., 0., 0., ..., 0., 0., 0.],\n",
       "         [0., 0., 0., ..., 0., 0., 0.],\n",
       "         ...,\n",
       "         [0., 0., 0., ..., 0., 0., 0.],\n",
       "         [0., 0., 0., ..., 0., 0., 0.],\n",
       "         [0., 0., 0., ..., 0., 0., 0.]],\n",
       " \n",
       "        [[0., 0., 0., ..., 0., 0., 0.],\n",
       "         [0., 0., 0., ..., 0., 0., 0.],\n",
       "         [0., 0., 0., ..., 0., 0., 0.],\n",
       "         ...,\n",
       "         [0., 0., 0., ..., 0., 0., 0.],\n",
       "         [0., 0., 0., ..., 0., 0., 0.],\n",
       "         [0., 0., 0., ..., 0., 0., 0.]]]),\n",
       " array([[[0., 0., 0., ..., 0., 0., 0.],\n",
       "         [0., 0., 0., ..., 0., 0., 0.],\n",
       "         [0., 0., 0., ..., 0., 0., 0.],\n",
       "         ...,\n",
       "         [0., 0., 0., ..., 0., 0., 0.],\n",
       "         [0., 0., 0., ..., 0., 0., 0.],\n",
       "         [0., 0., 0., ..., 0., 0., 0.]],\n",
       " \n",
       "        [[0., 0., 0., ..., 0., 0., 0.],\n",
       "         [0., 0., 0., ..., 0., 0., 0.],\n",
       "         [0., 0., 0., ..., 0., 0., 0.],\n",
       "         ...,\n",
       "         [0., 0., 0., ..., 0., 0., 0.],\n",
       "         [0., 0., 0., ..., 0., 0., 0.],\n",
       "         [0., 0., 0., ..., 0., 0., 0.]],\n",
       " \n",
       "        [[0., 0., 0., ..., 0., 0., 0.],\n",
       "         [0., 0., 0., ..., 0., 0., 0.],\n",
       "         [0., 0., 0., ..., 0., 0., 0.],\n",
       "         ...,\n",
       "         [0., 0., 0., ..., 0., 0., 0.],\n",
       "         [0., 0., 0., ..., 0., 0., 0.],\n",
       "         [0., 0., 0., ..., 0., 0., 0.]],\n",
       " \n",
       "        ...,\n",
       " \n",
       "        [[0., 0., 0., ..., 0., 0., 0.],\n",
       "         [0., 0., 0., ..., 0., 0., 0.],\n",
       "         [0., 0., 0., ..., 0., 0., 0.],\n",
       "         ...,\n",
       "         [0., 0., 0., ..., 0., 0., 0.],\n",
       "         [0., 0., 0., ..., 0., 0., 0.],\n",
       "         [0., 0., 0., ..., 0., 0., 0.]],\n",
       " \n",
       "        [[0., 0., 0., ..., 0., 0., 0.],\n",
       "         [0., 0., 0., ..., 0., 0., 0.],\n",
       "         [0., 0., 0., ..., 0., 0., 0.],\n",
       "         ...,\n",
       "         [0., 0., 0., ..., 0., 0., 0.],\n",
       "         [0., 0., 0., ..., 0., 0., 0.],\n",
       "         [0., 0., 0., ..., 0., 0., 0.]],\n",
       " \n",
       "        [[0., 0., 0., ..., 0., 0., 0.],\n",
       "         [0., 0., 0., ..., 0., 0., 0.],\n",
       "         [0., 0., 0., ..., 0., 0., 0.],\n",
       "         ...,\n",
       "         [0., 0., 0., ..., 0., 0., 0.],\n",
       "         [0., 0., 0., ..., 0., 0., 0.],\n",
       "         [0., 0., 0., ..., 0., 0., 0.]]])]"
      ]
     },
     "execution_count": 8,
     "metadata": {},
     "output_type": "execute_result"
    }
   ],
   "source": [
    "adjoint_dir = '/home/zyou6474/tasks/demo_adjoint'\n",
    "ldata.set_adjoint(adjoint=True, adjoint_dir=adjoint_dir)\n",
    "ldata._fnames(fmt_ntheta='%.3i')\n",
    "\n",
    "ldata.sensor_init_(sensor_locs)\n",
    "\n",
    "ldata.sensor_field()\n",
    "ldata.sensor_field(field_func = ldata.constant_field, fieldname='theta.IC')"
   ]
  },
  {
   "cell_type": "code",
   "execution_count": null,
   "metadata": {},
   "outputs": [
    {
     "name": "stderr",
     "output_type": "stream",
     "text": [
      "/home/zyou6474/.venv/lib/python3.10/site-packages/python_utils-0.1.0-py3.10.egg/turb/lesgo_utils.py:539: RuntimeWarning: invalid value encountered in divide\n"
     ]
    },
    {
     "name": "stdout",
     "output_type": "stream",
     "text": [
      "gif written in adjoint_intersect_002_2023_07_10.gif\n"
     ]
    }
   ],
   "source": [
    "ldata.adjoint_intersect(adjoint_tend = 2100, gif_fname='./imgs/adjoint_intersect', vmin = 0, vmax = 5e-2)"
   ]
  },
  {
   "cell_type": "code",
   "execution_count": null,
   "metadata": {},
   "outputs": [],
   "source": [
    "ldata.read_sensor_adjoint(t_ind=1000)"
   ]
  },
  {
   "cell_type": "code",
   "execution_count": null,
   "metadata": {},
   "outputs": [],
   "source": [
    "def normal(data):\n",
    "    vmin = data.min()\n",
    "    vmax = data.max()\n",
    "    data =  (data - vmin) /  (vmax - vmin)\n",
    "    return data"
   ]
  },
  {
   "cell_type": "code",
   "execution_count": null,
   "metadata": {},
   "outputs": [
    {
     "data": {
      "text/plain": [
       "0.01901221146837118"
      ]
     },
     "execution_count": 62,
     "metadata": {},
     "output_type": "execute_result"
    }
   ],
   "source": [
    "ldata.data['adjoint'].max()"
   ]
  },
  {
   "cell_type": "code",
   "execution_count": null,
   "metadata": {},
   "outputs": [
    {
     "data": {
      "text/plain": [
       "-0.006728332766272865"
      ]
     },
     "execution_count": 66,
     "metadata": {},
     "output_type": "execute_result"
    }
   ],
   "source": [
    "ldata.data['adjoint'].min()"
   ]
  },
  {
   "cell_type": "code",
   "execution_count": null,
   "metadata": {},
   "outputs": [
    {
     "data": {
      "text/plain": [
       "<matplotlib.image.AxesImage at 0x7f47a64b61a0>"
      ]
     },
     "execution_count": 61,
     "metadata": {},
     "output_type": "execute_result"
    },
    {
     "data": {
      "image/png": "[encoded data removed]",
      "text/plain": [
       "<Figure size 640x480 with 1 Axes>"
      ]
     },
     "metadata": {},
     "output_type": "display_data"
    }
   ],
   "source": [
    "z = np.zeros(shape=(128, 64, 4))\n",
    "z[:, :, 0] = normal(ldata.data['adjoint'][0, 0, :, 64, :])\n",
    "z[:, :, 1] = normal(ldata.data['adjoint'][0, 1, :, 64, :])\n",
    "# z[:, :, 2] = normal(ldata.data['adjoint'][0, 2, :, 64, :])\n",
    "z[:, :, 2] = normal(ldata.data['adjoint'][0, 2, :, 64, :])\n",
    "z[:, :, 3] = 0.8\n",
    "\n",
    "plt.imshow(z,)"
   ]
  },
  {
   "cell_type": "code",
   "execution_count": null,
   "metadata": {},
   "outputs": [
    {
     "name": "stderr",
     "output_type": "stream",
     "text": [
      "Clipping input data to the valid range for imshow with RGB data ([0..1] for floats or [0..255] for integers).\n"
     ]
    },
    {
     "data": {
      "text/plain": [
       "<matplotlib.image.AxesImage at 0x7f47a63eee00>"
      ]
     },
     "execution_count": 65,
     "metadata": {},
     "output_type": "execute_result"
    },
    {
     "data": {
      "image/png": "[encoded data removed]",
      "text/plain": [
       "<Figure size 640x480 with 1 Axes>"
      ]
     },
     "metadata": {},
     "output_type": "display_data"
    }
   ],
   "source": [
    "z = np.zeros(shape=(128, 64, 4))\n",
    "z[:, :, 0] = ldata.data['adjoint'][0, 0, :, 64, :]\n",
    "z[:, :, 1] = ldata.data['adjoint'][0, 1, :, 64, :]\n",
    "z[:, :, 2] = ldata.data['adjoint'][0, 2, :, 64, :]\n",
    "z[:, :, 3] = 0.8\n",
    "\n",
    "plt.imshow(z, norm=colors.Normalize(vmin =0, vmax = 1e-2, clip=True))"
   ]
  }
 ],
 "metadata": {
  "kernelspec": {
   "display_name": ".venv",
   "language": "python",
   "name": "python3"
  },
  "language_info": {
   "codemirror_mode": {
    "name": "ipython",
    "version": 3
   },
   "file_extension": ".py",
   "mimetype": "text/x-python",
   "name": "python",
   "nbconvert_exporter": "python",
   "pygments_lexer": "ipython3",
   "version": "3.10.9"
  },
  "orig_nbformat": 4
 },
 "nbformat": 4,
 "nbformat_minor": 2
}
