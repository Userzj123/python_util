{
 "cells": [
  {
   "cell_type": "code",
   "execution_count": 9,
   "metadata": {},
   "outputs": [],
   "source": [
    "import numpy as np"
   ]
  },
  {
   "cell_type": "code",
   "execution_count": 10,
   "metadata": {},
   "outputs": [
    {
     "name": "stdout",
     "output_type": "stream",
     "text": [
      "a = [[0 1 2]\n",
      " [3 4 5]\n",
      " [6 7 8]]\n",
      "a elementwise dot a = [[ 0  1  4]\n",
      " [ 9 16 25]\n",
      " [36 49 64]]\n",
      "a dot a = [[ 15  18  21]\n",
      " [ 42  54  66]\n",
      " [ 69  90 111]]\n"
     ]
    }
   ],
   "source": [
    "a = np.arange(9).reshape((3, 3))\n",
    "print('a = %s' % a)\n",
    "print('a elementwise dot a = %s' %str(a*a))\n",
    "print('a dot a = %s' % str(a@a))"
   ]
  },
  {
   "cell_type": "code",
   "execution_count": 11,
   "metadata": {},
   "outputs": [
    {
     "name": "stdout",
     "output_type": "stream",
     "text": [
      "ind =  (0, 0)\n",
      "element value is  0\n",
      "ind =  (0, 1)\n",
      "element value is  1\n",
      "ind =  (0, 2)\n",
      "element value is  2\n",
      "ind =  (1, 0)\n",
      "element value is  3\n",
      "ind =  (1, 1)\n",
      "element value is  4\n",
      "ind =  (1, 2)\n",
      "element value is  5\n",
      "ind =  (2, 0)\n",
      "element value is  6\n",
      "ind =  (2, 1)\n",
      "element value is  7\n",
      "ind =  (2, 2)\n",
      "element value is  8\n"
     ]
    }
   ],
   "source": [
    "for ind, e in enumerate(a.reshape(-1)):\n",
    "    print('ind = ', np.unravel_index(ind, (3, 3)))\n",
    "    print('element value is ', e)"
   ]
  },
  {
   "cell_type": "code",
   "execution_count": 12,
   "metadata": {},
   "outputs": [
    {
     "name": "stdout",
     "output_type": "stream",
     "text": [
      "[[0 0 0]\n",
      " [0 1 2]\n",
      " [0 2 4]]\n"
     ]
    }
   ],
   "source": [
    "b = np.arange(3)[np.newaxis, :] * np.arange(3)[:, np.newaxis]\n",
    "print(b)"
   ]
  }
 ],
 "metadata": {
  "kernelspec": {
   "display_name": "turb",
   "language": "python",
   "name": "python3"
  },
  "language_info": {
   "codemirror_mode": {
    "name": "ipython",
    "version": 3
   },
   "file_extension": ".py",
   "mimetype": "text/x-python",
   "name": "python",
   "nbconvert_exporter": "python",
   "pygments_lexer": "ipython3",
   "version": "3.10.12"
  },
  "orig_nbformat": 4
 },
 "nbformat": 4,
 "nbformat_minor": 2
}
