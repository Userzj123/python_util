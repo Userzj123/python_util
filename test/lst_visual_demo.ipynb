{
 "cells": [
  {
   "cell_type": "code",
   "execution_count": 1,
   "metadata": {},
   "outputs": [],
   "source": [
    "import numpy as np\n",
    "import matplotlib.pyplot as plt\n",
    "from scipy import linalg\n",
    "from scipy.io import loadmat\n",
    "\n",
    "from dash import Dash, html, dcc, Input, Output, callback\n",
    "import pandas as pd\n",
    "import plotly.express as px\n",
    "\n",
    "from turb.lst import lst"
   ]
  },
  {
   "cell_type": "code",
   "execution_count": 2,
   "metadata": {},
   "outputs": [],
   "source": [
    "mat_f = r'./data/LST_template.mat'\n",
    "mat_data = loadmat(mat_f)"
   ]
  },
  {
   "cell_type": "code",
   "execution_count": 3,
   "metadata": {},
   "outputs": [
    {
     "name": "stdout",
     "output_type": "stream",
     "text": [
      "Rayleigh number is 0.0\n"
     ]
    }
   ],
   "source": [
    "channel_lst = lst(384, 2)\n",
    "\n",
    "df = pd.DataFrame(\n",
    "   dict(\n",
    "      eigvals = channel_lst.omega,\n",
    "      eigvecs = [channel_lst.q[:, ind] for ind in range(channel_lst.omega.shape[0])],\n",
    "      eig_ind = range(channel_lst.omega.shape[0]),\n",
    "   )\n",
    ")"
   ]
  },
  {
   "cell_type": "code",
   "execution_count": 4,
   "metadata": {},
   "outputs": [
    {
     "data": {
      "text/plain": [
       "dict_keys(['__header__', '__version__', '__globals__', 'A', 'B', 'omega', 'q'])"
      ]
     },
     "execution_count": 4,
     "metadata": {},
     "output_type": "execute_result"
    }
   ],
   "source": [
    "mat_data.keys()"
   ]
  },
  {
   "cell_type": "code",
   "execution_count": 25,
   "metadata": {},
   "outputs": [],
   "source": [
    "\n",
    "external_stylesheets = ['https://codepen.io/chriddyp/pen/bWLwgP.css']\n",
    "\n",
    "app = Dash(__name__, external_stylesheets=external_stylesheets)\n",
    "\n",
    "\n",
    "app.layout = html.Div([\n",
    "    html.Div([\n",
    "        html.Div([\n",
    "            \"Layer Number: \",\n",
    "            dcc.Input(id='layer_number', value=384, type='number')\n",
    "        ])]),\n",
    "    \n",
    "        html.Div([\n",
    "            dcc.Graph(\n",
    "                id='eigenvals_plot',\n",
    "                clickData={'points': [{'pointNumber': 0}]}\n",
    "            )\n",
    "        ], style={'width': '49%', 'display': 'inline-block', 'padding': '0 20'}),\n",
    "        \n",
    "        html.Div([\n",
    "            dcc.Graph(id='eigenvector_plot',)\n",
    "        ], style={'display': 'inline-block', 'width': '49%'})\n",
    "\n",
    "])\n",
    "\n",
    "def create_eigvec_plot(y_phys, eigvec, title):\n",
    "    fig = px.scatter(x=y_phys, y=eigvec[-y_phys.shape[0]:])\n",
    "    fig.update_traces(mode='lines+markers')\n",
    "\n",
    "    fig.update_xaxes(showgrid=False)\n",
    "\n",
    "    fig.add_annotation(x=0, y=0.85, xanchor='left', yanchor='bottom',\n",
    "                       xref='paper', yref='paper', showarrow=False, align='left',\n",
    "                       text=title)\n",
    "\n",
    "    fig.update_layout(height=225, margin={'l': 20, 'b': 30, 'r': 10, 't': 10})\n",
    "    \n",
    "    return fig\n",
    "\n",
    "@callback(\n",
    "    Output('eigenvals_plot', 'figure'),\n",
    "    Input('layer_number', 'value')\n",
    ")\n",
    "def update_graph(layer_number, ):\n",
    "    channel_lst = lst(layer_number, 2)\n",
    "    fig = px.scatter(x=np.real(channel_lst.omega), y = np.imag(channel_lst.omega), hover_name=df[\"eig_ind\"])\n",
    "    return fig\n",
    "\n",
    "\n",
    "@callback(\n",
    "    Output('eigenvector_plot', 'figure'),\n",
    "    Input('eigenvals_plot', 'clickData')\n",
    ")\n",
    "def update_eigenmode(clickData):\n",
    "    eig_ind = clickData[\"points\"][0]['pointNumber']\n",
    "    print(eig_ind)\n",
    "    fig = px.scatter(channel_lst.y_phys[:, 0], np.abs(channel_lst.q[-channel_lst.y_phys.shape[0]:, eig_ind]))\n",
    "    return fig\n"
   ]
  },
  {
   "cell_type": "code",
   "execution_count": 26,
   "metadata": {},
   "outputs": [
    {
     "data": {
      "text/plain": [
       "(384,)"
      ]
     },
     "execution_count": 26,
     "metadata": {},
     "output_type": "execute_result"
    }
   ],
   "source": [
    "channel_lst.q[-channel_lst.y_phys.shape[0]:, 1].shape\n",
    "channel_lst.y_phys[:, 0].shape"
   ]
  },
  {
   "cell_type": "code",
   "execution_count": 27,
   "metadata": {},
   "outputs": [
    {
     "data": {
      "text/html": [
       "\n",
       "        <iframe\n",
       "            width=\"100%\"\n",
       "            height=\"650\"\n",
       "            src=\"http://127.0.0.1:8050/\"\n",
       "            frameborder=\"0\"\n",
       "            allowfullscreen\n",
       "            \n",
       "        ></iframe>\n",
       "        "
      ],
      "text/plain": [
       "<IPython.lib.display.IFrame at 0x7f422ed42530>"
      ]
     },
     "metadata": {},
     "output_type": "display_data"
    }
   ],
   "source": [
    "app.run(debug=True)"
   ]
  }
 ],
 "metadata": {
  "kernelspec": {
   "display_name": "turb",
   "language": "python",
   "name": "python3"
  },
  "language_info": {
   "codemirror_mode": {
    "name": "ipython",
    "version": 3
   },
   "file_extension": ".py",
   "mimetype": "text/x-python",
   "name": "python",
   "nbconvert_exporter": "python",
   "pygments_lexer": "ipython3",
   "version": "3.10.12"
  },
  "orig_nbformat": 4
 },
 "nbformat": 4,
 "nbformat_minor": 2
}
