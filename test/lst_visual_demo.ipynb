{
 "cells": [
  {
   "cell_type": "code",
   "execution_count": 88,
   "metadata": {},
   "outputs": [],
   "source": [
    "import numpy as np\n",
    "import matplotlib.pyplot as plt\n",
    "from scipy import linalg\n",
    "from scipy.io import loadmat\n",
    "\n",
    "from dash import Dash, html, dcc, Input, Output, callback\n",
    "import pandas as pd\n",
    "import plotly.express as px\n",
    "\n",
    "from turb.lst import lst"
   ]
  },
  {
   "cell_type": "code",
   "execution_count": 89,
   "metadata": {},
   "outputs": [
    {
     "name": "stdout",
     "output_type": "stream",
     "text": [
      "dict_keys(['__header__', '__version__', '__globals__', 'A', 'B', 'omega', 'q'])\n"
     ]
    }
   ],
   "source": [
    "mat_f = r'./data/LST_template.mat'\n",
    "mat_data = loadmat(mat_f)\n",
    "print(mat_data.keys())"
   ]
  },
  {
   "cell_type": "code",
   "execution_count": 90,
   "metadata": {},
   "outputs": [],
   "source": [
    "df = pd.DataFrame(\n",
    "   dict(\n",
    "      eigvals = mat_data['omega'][:, 0],\n",
    "      eigvecs = [mat_data['q'][:, ind] for ind in range(mat_data['omega'].shape[0])],\n",
    "      eig_ind = range(mat_data['omega'].shape[0]),\n",
    "   )\n",
    ")"
   ]
  },
  {
   "cell_type": "code",
   "execution_count": 91,
   "metadata": {},
   "outputs": [],
   "source": [
    "# channel_lst = lst(384, 2)\n",
    "# df = pd.DataFrame(\n",
    "#    dict(\n",
    "#       eigvals = channel_lst.omega,\n",
    "#       eigvecs = [channel_lst.q[:, ind] for ind in range(channel_lst.omega.shape[0])],\n",
    "#       eig_ind = range(channel_lst.omega.shape[0]),\n",
    "#    )\n",
    "# )\n",
    "# y_phys = channel_lst.y_phys"
   ]
  },
  {
   "cell_type": "code",
   "execution_count": 97,
   "metadata": {},
   "outputs": [
    {
     "ename": "SyntaxError",
     "evalue": "invalid syntax. Perhaps you forgot a comma? (1773564770.py, line 57)",
     "output_type": "error",
     "traceback": [
      "\u001b[0;36m  Cell \u001b[0;32mIn[97], line 57\u001b[0;36m\u001b[0m\n\u001b[0;31m    Output('point_index', 'value')\u001b[0m\n\u001b[0m    ^\u001b[0m\n\u001b[0;31mSyntaxError\u001b[0m\u001b[0;31m:\u001b[0m invalid syntax. Perhaps you forgot a comma?\n"
     ]
    }
   ],
   "source": [
    "app = Dash(__name__, external_stylesheets=external_stylesheets)\n",
    "\n",
    "\n",
    "app.layout = html.Div([\n",
    "    html.Div([\n",
    "        html.Div([\n",
    "            \"Layer Number: \",\n",
    "            dcc.Input(id='layer_number', value=384, type='number')\n",
    "        ]),\n",
    "\n",
    "        html.Div([\n",
    "            \"Point Index: \",\n",
    "            dcc.Input(id='point_index', value=0, type='number')\n",
    "        ]),\n",
    "\n",
    "        ]),\n",
    "    \n",
    "        html.Div([\n",
    "            dcc.Graph(\n",
    "                id='eigenvals_plot',\n",
    "                clickData={'points': [{'pointNumber': 0}]}\n",
    "            )\n",
    "        ], style={'width': '49%', 'display': 'inline-block', 'padding': '0 20'}),\n",
    "        \n",
    "\n",
    "        html.Div([\n",
    "            dcc.Graph(id='eigenvector_plot',)\n",
    "        ], style={'display': 'inline-block', 'width': '49%'})\n",
    "\n",
    "])\n",
    "\n",
    "def create_eigvec_plot(y, eigvec, title):\n",
    "    fig = px.scatter(x=y, y=eigvec[-y.shape[0]:])\n",
    "    fig.update_traces(mode='lines+markers')\n",
    "\n",
    "    fig.update_xaxes(showgrid=False)\n",
    "\n",
    "    fig.add_annotation(x=0, y=0.85, xanchor='left', yanchor='bottom',\n",
    "                       xref='paper', yref='paper', showarrow=False, align='left',\n",
    "                       text=title)\n",
    "\n",
    "    fig.update_layout(height=225, margin={'l': 20, 'b': 30, 'r': 10, 't': 10})\n",
    "    \n",
    "    return fig\n",
    "\n",
    "@callback(\n",
    "    Output('eigenvals_plot', 'figure'),\n",
    "    Input('layer_number', 'value')\n",
    ")\n",
    "def update_graph(layer_number, ):\n",
    "    fig = px.scatter(x=np.real(df['eigvals']), y = np.imag(df['eigvals']), hover_name=df[\"eig_ind\"])\n",
    "    return fig\n",
    "\n",
    "\n",
    "@callback(\n",
    "    Output('eigenvector_plot', 'figure'),\n",
    "    Output('point_index', 'value'),\n",
    "    Input('eigenvals_plot', 'clickData'),\n",
    "    Input('layer_number', 'value')\n",
    ")\n",
    "def update_eigenmode(clickData, layer_number):\n",
    "    y_phys = np.cos(np.linspace(0, np.pi, layer_number))\n",
    "    eig_ind = clickData[\"points\"][0]['pointNumber']\n",
    "    print(eig_ind)\n",
    "    fig = px.scatter(x= y_phys, y= np.abs(df['eigvecs'][eig_ind][-y_phys.shape[0]:]))\n",
    "    return fig, eig_ind\n"
   ]
  },
  {
   "cell_type": "code",
   "execution_count": null,
   "metadata": {},
   "outputs": [],
   "source": []
  },
  {
   "cell_type": "code",
   "execution_count": null,
   "metadata": {},
   "outputs": [
    {
     "data": {
      "text/html": [
       "\n",
       "        <iframe\n",
       "            width=\"100%\"\n",
       "            height=\"650\"\n",
       "            src=\"http://127.0.0.1:8050/\"\n",
       "            frameborder=\"0\"\n",
       "            allowfullscreen\n",
       "            \n",
       "        ></iframe>\n",
       "        "
      ],
      "text/plain": [
       "<IPython.lib.display.IFrame at 0x7f422c1e2c20>"
      ]
     },
     "metadata": {},
     "output_type": "display_data"
    },
    {
     "name": "stdout",
     "output_type": "stream",
     "text": [
      "0\n",
      "154\n",
      "129\n",
      "61\n",
      "144\n",
      "74\n",
      "153\n",
      "130\n",
      "120\n",
      "119\n",
      "59\n",
      "119\n"
     ]
    }
   ],
   "source": [
    "app.run(debug=True)"
   ]
  }
 ],
 "metadata": {
  "kernelspec": {
   "display_name": "turb",
   "language": "python",
   "name": "python3"
  },
  "language_info": {
   "codemirror_mode": {
    "name": "ipython",
    "version": 3
   },
   "file_extension": ".py",
   "mimetype": "text/x-python",
   "name": "python",
   "nbconvert_exporter": "python",
   "pygments_lexer": "ipython3",
   "version": "3.10.12"
  },
  "orig_nbformat": 4
 },
 "nbformat": 4,
 "nbformat_minor": 2
}
