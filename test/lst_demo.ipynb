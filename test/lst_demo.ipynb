{
 "cells": [
  {
   "cell_type": "code",
   "execution_count": 27,
   "metadata": {},
   "outputs": [],
   "source": [
    "import numpy as np\n",
    "import matplotlib.pyplot as plt\n",
    "from scipy import linalg\n",
    "from scipy.io import loadmat"
   ]
  },
  {
   "cell_type": "code",
   "execution_count": 28,
   "metadata": {},
   "outputs": [
    {
     "name": "stderr",
     "output_type": "stream",
     "text": [
      "/opt/anaconda3/envs/turb/lib/python3.10/site-packages/scipy/io/matlab/_mio.py:227: MatReadWarning: Duplicate variable name \"None\" in stream - replacing previous with new\n",
      "Consider mio5.varmats_from_mat to split file into single variable files\n",
      "  matfile_dict = MR.get_variables(variable_names)\n"
     ]
    }
   ],
   "source": [
    "mat_f = r'./data/LST_matlab_linux.mat'\n",
    "mat_data = loadmat(mat_f)"
   ]
  },
  {
   "cell_type": "markdown",
   "metadata": {},
   "source": [
    "# Linear Stability Theory"
   ]
  },
  {
   "cell_type": "code",
   "execution_count": 29,
   "metadata": {},
   "outputs": [
    {
     "name": "stdout",
     "output_type": "stream",
     "text": [
      "Rayleigh number is 0.0\n"
     ]
    }
   ],
   "source": [
    "# Input parameters \n",
    "N       = 384 # number of Chebyshev polynomials\n",
    "\n",
    "R  = 180         # Reynolds number\n",
    "kx = 1           # streamwise wavenumber\n",
    "kz = 0           # spanwise wavenumber\n",
    "Ri = 0.0        # Richardson number\n",
    "Pr = 0.71        # Prantl number\n",
    "Ra = 8*R*R/Pr*Ri # Rayleigh number\n",
    "print('Rayleigh number is '+ str(Ra))\n",
    "\n",
    "bf = 2   # set = 1 for Couette, 2 for Poiseuille, 3 for quiescent"
   ]
  },
  {
   "cell_type": "markdown",
   "metadata": {},
   "source": [
    "This LST code use Chebyshev polynomials in z direction. $D_0$ is the first eigen-mode and $D_1$ is the second eigen-mode.\n",
    "\n",
    "$$\n",
    "\\mathbf{D_0^i}(jdy) \\equiv D_0(i, j) =\\cos{(i y)}=  \\cos{(i \\times j\\times \\mathrm{d}y)}, \\quad \\forall i, j \\in 0, 1, 2 \\dots N-1\n",
    "$$"
   ]
  },
  {
   "cell_type": "markdown",
   "metadata": {},
   "source": [
    "<span style='color:red'> what i and j represent?</span>"
   ]
  },
  {
   "cell_type": "markdown",
   "metadata": {},
   "source": [
    "$$\n",
    "D_1(i, j) = \\begin{bmatrix}\n",
    " \\mathbf{0} & \n",
    " \\mathbf{D}_0(i, 0) &\n",
    " 4*\\mathbf{D}_0(i, 1) &\n",
    " 2*j*\\mathbf{D}_0(i, j-1) + j*\\mathbf{D}_1(i, j-2)/(j-2)\n",
    "\\end{bmatrix},\n",
    "\\quad \\forall i, j\\in 0, 1, 2 \\dots N-1\n",
    "$$"
   ]
  },
  {
   "cell_type": "code",
   "execution_count": 30,
   "metadata": {},
   "outputs": [],
   "source": [
    "def dmat(N):\n",
    "    num = N-1\n",
    "    D0 = np.cos(np.arange(N)[np.newaxis, :]  * np.pi * np.arange(N)[:, np.newaxis] / num )\n",
    "    \n",
    "    # create higher derivative matrices\n",
    "    D1 = np.concatenate((np.zeros(shape=(N, 1)), D0[:, 0][:, np.newaxis], 4*D0[:, 1][:, np.newaxis]), axis=1)\n",
    "    D2 = np.concatenate((np.zeros(shape=(N, 2)), 4*D0[:, 1][:, np.newaxis]), axis=1)\n",
    "    D3 = np.zeros(shape=(N, 3))\n",
    "    D4 = np.zeros(shape=(N, 3))\n",
    "\n",
    "\n",
    "\n",
    "    for j in range(3, N):\n",
    "        D1= np.concatenate((D1, 2*j*D0[:, j-1][:, np.newaxis]+j*D1[:, j-2][:, np.newaxis]/(j-2)), axis=1)\n",
    "        D2= np.concatenate((D2, 2*j*D1[:, j-1][:, np.newaxis]+j*D2[:, j-2][:, np.newaxis]/(j-2)), axis=1)\n",
    "        D3= np.concatenate((D3, 2*j*D2[:, j-1][:, np.newaxis]+j*D3[:, j-2][:, np.newaxis]/(j-2)), axis=1)\n",
    "        D4= np.concatenate((D4, 2*j*D3[:, j-1][:, np.newaxis]+j*D4[:, j-2][:, np.newaxis]/(j-2)), axis=1)\n",
    "        \n",
    "    return D0, D1, D2, D3, D4"
   ]
  },
  {
   "cell_type": "code",
   "execution_count": 31,
   "metadata": {},
   "outputs": [],
   "source": [
    "# Set up grid and differentiation matrices\n",
    "y_phys                = np.cos(np.linspace(0, np.pi, N))[:, np.newaxis]   # Generate Chebyshev grid for base flow solver\n",
    "D0,D1,D2,D3,D4 = dmat(N)   # Chebyshev polynomials and derivatives at the Gauss points"
   ]
  },
  {
   "cell_type": "code",
   "execution_count": 32,
   "metadata": {},
   "outputs": [],
   "source": [
    "def bounded_base(y_phys,N,bf):\n",
    "    if bf == 1: # Couette flow\n",
    "   \n",
    "        U   = y_phys\n",
    "        Up  = np.ones(shape=(N, 1))\n",
    "        Upp = np.zeros(shape=(N, 1))\n",
    "        T   = y_phys\n",
    "        Tp  = np.zeros(shape=(N, 1))\n",
    "        \n",
    "    elif bf == 2 : # Poiseuille flow\n",
    "        \n",
    "        U   = (1 - y_phys**2)\n",
    "        Up  = -2*y_phys\n",
    "        Upp = -2*np.ones(shape=(N, 1))\n",
    "        T   = np.zeros(shape=(N, 1))\n",
    "        Tp  = np.zeros(shape=(N, 1))\n",
    "        \n",
    "    elif bf == 3: # quiescent flow\n",
    "        \n",
    "        U   = np.zeros(shape=(N, 1))\n",
    "        Up  = np.zeros(shape=(N, 1))\n",
    "        Upp = np.zeros(shape=(N, 1))\n",
    "        T   = y_phys\n",
    "        Tp  = np.ones(shape=(N, 1))\n",
    "    else:\n",
    "        print('Need to select bf = 1 or 2')\n",
    "        \n",
    "        \n",
    "    return U,Up,Upp,T,Tp"
   ]
  },
  {
   "cell_type": "code",
   "execution_count": 33,
   "metadata": {},
   "outputs": [],
   "source": [
    "# Find the base flow\n",
    "[U,Up,Upp,T,Tp] = bounded_base(y_phys,N,bf)"
   ]
  },
  {
   "cell_type": "markdown",
   "metadata": {},
   "source": [
    "### Operator A\n",
    "\n",
    "**LSQ**\n",
    "\n",
    "$$\n",
    "\\begin{equation}\n",
    "\\text{LSQ} = -\\mathrm{i}k_x \\mathbf{U} * \\mathbf{D_0} + \\frac{1}{\\text{Re}} * (\\mathbf{D_2} - (k_x^2 + k_z^2) * \\mathbf{D_0})\n",
    "\\end{equation}\n",
    "$$\n"
   ]
  },
  {
   "cell_type": "code",
   "execution_count": 34,
   "metadata": {},
   "outputs": [],
   "source": [
    "def Operator(kx,kz,R,Pr,Ri,U,Up,Upp,Tp,D0,D1,D2,D4):\n",
    "    # Useful variables --------------------------------------------------------\n",
    "    k2 = kx**2 + kz**2       # wavenumber^2\n",
    "    N  = U.shape[0]\n",
    "    M  =  np.ones(shape=(1, N)) # matrix for mean flow variables \n",
    "    er = -200*1j           # for spurious eigenvalues from BCs\n",
    "\n",
    "    A32 = -1j*kx*(U@M)*D0 + (1/R/Pr)*(D2-k2*D0)\n",
    "    \n",
    "    A = A32\n",
    "\n",
    "    B = D0\n",
    "\n",
    "    A[0, :] = er*D0[0, :]\n",
    "    A[-1, :] = er*D0[N-1, :]\n",
    "    return A, B"
   ]
  },
  {
   "cell_type": "code",
   "execution_count": 35,
   "metadata": {},
   "outputs": [],
   "source": [
    "# Find eigenvalues of stability operators\n",
    "A, B = Operator(kx,kz,R,Pr,Ri,U,Up,Upp,Tp,D0,D1,D2,D4)"
   ]
  },
  {
   "cell_type": "code",
   "execution_count": 36,
   "metadata": {},
   "outputs": [],
   "source": [
    "# find eigenvalues\n",
    "# omega, q = linalg.eig(A, B)\n",
    "omega, q = np.linalg.eig(np.linalg.inv(B)@A)\n",
    "\n",
    "\n",
    "omega = 1j*omega   # eigenvalues omega in vector form\n",
    "\n",
    "# remove bad eigenvalues\n",
    "sp = np.logical_and(abs(omega)>1e-10, abs(omega)<50)\n",
    "\n",
    "omega = omega[sp]\n",
    "q = q[:, sp]"
   ]
  },
  {
   "cell_type": "code",
   "execution_count": 37,
   "metadata": {},
   "outputs": [],
   "source": [
    "# find eigenvalues\n",
    "# omega_mat, q_mat = linalg.eig( mat_data['A'], mat_data['B'])\n",
    "omega_mat, q_mat = np.linalg.eig(np.linalg.inv(mat_data['B']) @ mat_data['A'])\n",
    "\n",
    "\n",
    "omega_mat = 1j*omega_mat   # eigenvalues omega in vector form\n",
    "\n",
    "\n",
    "# remove bad eigenvalues\n",
    "sp = np.logical_and(abs(omega_mat)>1e-10, abs(omega_mat)<50)\n",
    "\n",
    "omega_mat = omega_mat[sp]\n",
    "q_mat = q_mat[:, sp]"
   ]
  },
  {
   "cell_type": "code",
   "execution_count": 38,
   "metadata": {},
   "outputs": [],
   "source": [
    "def vel_field(kx,kz,D0,D1,q,N):\n",
    "\n",
    "    k2 = kx**2 + kz**2\n",
    "\n",
    "    # note q is the truncated matrix of eigenfunctions (the first K eigenfunctions)\n",
    "\n",
    "    # extract known eigenfunctions from q ------------------------------------#\n",
    "    v   = D0 @ q[:N,:]\n",
    "    Dv  = D1 @ q[:N,:] # vertical velocity and its gradient\n",
    "    eta = D0 @ q[N:2*N,:] # wall normal vorticity\n",
    "    #-------------------------------------------------------------------------#\n",
    "\n",
    "    # find full velocity field (using continuity and definition of normal\n",
    "    # vorticity) -------------------------------------------------------------#\n",
    "    u = np.zeros(v.shape)\n",
    "    w = np.zeros(v.shape)\n",
    "\n",
    "    for i in range(u.shape[1]):\n",
    "\n",
    "        u[:,i] = (1j/k2)*(kx*Dv[:,i] - kz*eta[:,i])\n",
    "        w[:,i] = (1j/k2)*(kz*Dv[:,i] + kx*eta[:,i])\n",
    "\n",
    "    return u,v,w,eta"
   ]
  },
  {
   "cell_type": "code",
   "execution_count": 39,
   "metadata": {},
   "outputs": [],
   "source": [
    "# [u,v,w,eta] = vel_field(kx,kz,D0,D1,q,N)\n",
    "Temperature = D0 @ q"
   ]
  },
  {
   "cell_type": "code",
   "execution_count": 40,
   "metadata": {},
   "outputs": [],
   "source": [
    "# remove bad eigenvalues\n",
    "sp_mat = np.logical_and(abs(mat_data['omega'])>1e-10, abs(mat_data['omega'])<50)\n",
    "\n",
    "mat_data['omega'] = mat_data['omega'][sp_mat]\n",
    "mat_data['q'] = mat_data['q'][:, np.squeeze(sp_mat)]"
   ]
  },
  {
   "cell_type": "code",
   "execution_count": 45,
   "metadata": {},
   "outputs": [
    {
     "data": {
      "text/plain": [
       "(-10.0, 5.0)"
      ]
     },
     "execution_count": 45,
     "metadata": {},
     "output_type": "execute_result"
    },
    {
     "data": {
      "image/png": "[encoded data removed]",
      "text/plain": [
       "<Figure size 750x600 with 1 Axes>"
      ]
     },
     "metadata": {},
     "output_type": "display_data"
    }
   ],
   "source": [
    "fig, ax = plt.subplots(figsize=(5, 4), dpi=150)\n",
    "ax.scatter(np.real(omega), np.imag(omega), marker='.', color='navy', alpha=0.3, label='python')\n",
    "# ax.scatter(np.real(mat_data['omega']), np.imag(mat_data['omega']), marker='x', color='red', alpha=0.3, label='matlab')\n",
    "ax.scatter(np.real(omega_mat), np.imag(omega_mat), marker='x', color='green', alpha=0.3, label='pylab')\n",
    "\n",
    "ax.legend()\n",
    "ax.set_xlim(0, 1)\n",
    "ax.set_ylim(-10, 5)"
   ]
  }
 ],
 "metadata": {
  "kernelspec": {
   "display_name": ".venv",
   "language": "python",
   "name": "python3"
  },
  "language_info": {
   "codemirror_mode": {
    "name": "ipython",
    "version": 3
   },
   "file_extension": ".py",
   "mimetype": "text/x-python",
   "name": "python",
   "nbconvert_exporter": "python",
   "pygments_lexer": "ipython3",
   "version": "3.10.12"
  },
  "orig_nbformat": 4
 },
 "nbformat": 4,
 "nbformat_minor": 2
}
