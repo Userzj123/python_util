{
 "cells": [
  {
   "cell_type": "code",
   "execution_count": 1,
   "metadata": {},
   "outputs": [],
   "source": [
    "import numpy as np\n",
    "import matplotlib.pyplot as plt\n",
    "from scipy import linalg\n",
    "from scipy.io import loadmat"
   ]
  },
  {
   "cell_type": "code",
   "execution_count": 3,
   "metadata": {},
   "outputs": [],
   "source": [
    "mat_f = r'./data/LST_template.mat'\n",
    "mat_data = loadmat(mat_f)"
   ]
  },
  {
   "cell_type": "markdown",
   "metadata": {},
   "source": [
    "# Linear Stability Theory"
   ]
  },
  {
   "cell_type": "code",
   "execution_count": 4,
   "metadata": {},
   "outputs": [
    {
     "name": "stdout",
     "output_type": "stream",
     "text": [
      "Rayleigh number is 0.0\n"
     ]
    }
   ],
   "source": [
    "# Input parameters \n",
    "N       = 384 # number of Chebyshev polynomials\n",
    "\n",
    "R  = 180         # Reynolds number\n",
    "kx = 0.5           # streamwise wavenumber\n",
    "kz = 0           # spanwise wavenumber\n",
    "Ri = 0.0        # Richardson number\n",
    "Pr = 0.71        # Prantl number\n",
    "Ra = 8*R*R/Pr*Ri # Rayleigh number\n",
    "print('Rayleigh number is '+ str(Ra))\n",
    "\n",
    "bf = 2   # set = 1 for Couette, 2 for Poiseuille, 3 for quiescent"
   ]
  },
  {
   "cell_type": "code",
   "execution_count": 5,
   "metadata": {},
   "outputs": [],
   "source": [
    "def dmat(N):\n",
    "    D0 = np.cos(np.pi / (N-1) * np.arange(N)[np.newaxis, :] * np.arange(N)[:, np.newaxis])\n",
    "    \n",
    "    D1 = np.concatenate((np.zeros(shape=(1, N)), D0[0, :][np.newaxis, :], 4*D0[1, :][np.newaxis, :]), axis=0)\n",
    "    D2 = np.concatenate((np.zeros(shape=(2, N)), 4*D0[1, :][np.newaxis, :]), axis=0)\n",
    "    D3 = np.zeros(shape=(3, N))\n",
    "    D4 = np.zeros(shape=(3, N))\n",
    "\n",
    "\n",
    "\n",
    "    # create higher derivative matrices\n",
    "    for j in range(2, N-1):\n",
    "        \n",
    "        D1= np.concatenate((D1, 2*j*D0[j, :][np.newaxis, :]+j*D1[j-1, :][np.newaxis, :]/(j-1)), axis=0)\n",
    "        D2= np.concatenate((D2, 2*j*D1[j, :][np.newaxis, :]+j*D2[j-1, :][np.newaxis, :]/(j-1)), axis=0)\n",
    "        D3= np.concatenate((D3, 2*j*D2[j, :][np.newaxis, :]+j*D3[j-1, :][np.newaxis, :]/(j-1)), axis=0)\n",
    "        D4= np.concatenate((D4, 2*j*D3[j, :][np.newaxis, :]+j*D4[j-1, :][np.newaxis, :]/(j-1)), axis=0)\n",
    "        \n",
    "    return D0, D1, D2, D3, D4"
   ]
  },
  {
   "cell_type": "code",
   "execution_count": 6,
   "metadata": {},
   "outputs": [],
   "source": [
    "# Set up grid and differentiation matrices\n",
    "y_phys                = np.cos(np.linspace(0, np.pi, N))[np.newaxis, :]   # Generate Chebyshev grid for base flow solver\n",
    "D0p,D1p,D2p,D3p,D4p = dmat(N)   # Chebyshev polynomials and derivatives at the Gauss points"
   ]
  },
  {
   "cell_type": "code",
   "execution_count": 7,
   "metadata": {},
   "outputs": [],
   "source": [
    "def bounded_base(y_phys,N,bf):\n",
    "    if bf == 1: # Couette flow\n",
    "   \n",
    "        U   = y_phys\n",
    "        Up  = np.ones(shape=(1, N))\n",
    "        Upp = np.zeros(shape=(1, N))\n",
    "        T   = y_phys\n",
    "        Tp  = np.zeros(shape=(1, N))\n",
    "        \n",
    "    elif bf == 2 : # Poiseuille flow\n",
    "        \n",
    "        U   = (1 - y_phys**2)\n",
    "        Up  = -2*y_phys\n",
    "        Upp = -2*np.ones(shape=(1, N))\n",
    "        T   = np.zeros(shape=(1, N))\n",
    "        Tp  = np.zeros(shape=(1, N))\n",
    "        \n",
    "    elif bf == 3: # quiescent flow\n",
    "        \n",
    "        U   = np.zeros(shape=(1, N))\n",
    "        Up  = np.zeros(shape=(1, N))\n",
    "        Upp = np.zeros(shape=(1, N))\n",
    "        T   = y_phys\n",
    "        Tp  = np.ones(shape=(1, N))\n",
    "    else:\n",
    "        print('Need to select bf = 1 or 2')\n",
    "        \n",
    "        \n",
    "    return U,Up,Upp,T,Tp"
   ]
  },
  {
   "cell_type": "code",
   "execution_count": 8,
   "metadata": {},
   "outputs": [],
   "source": [
    "# Find the base flow\n",
    "[U,Up,Upp,T,Tp] = bounded_base(y_phys,N,bf)"
   ]
  },
  {
   "cell_type": "code",
   "execution_count": 9,
   "metadata": {},
   "outputs": [],
   "source": [
    "def Operator(kx,kz,R,Pr,Ri,U,Up,Upp,Tp,D0,D1,D2,D4):\n",
    "    # Useful variables --------------------------------------------------------\n",
    "    k2 = kx**2 + kz**2;       # wavenumber^2\n",
    "    N  = U.shape[1]\n",
    "    M  =  np.ones(shape=(N, 1)) # matrix for mean flow variables \n",
    "    er = -200*1j           # for spurious eigenvalues from BCs\n",
    "\n",
    "    LSQ = -1j*kx*(U*M)*D0 + (1/R)*(D2-k2*D0)\n",
    "    LOS = -1j*kx*(U*M)*(D2-k2*D0) + 1j*kx*(Upp*M)*D0 + (1/R)*(D4-(2*k2*D2)+((k2**2)*D0))\n",
    "    A32 = -1j*kx*(U*M)*D0 + (1/R/Pr)*(D2-k2*D0)\n",
    "    \n",
    "    A = np.block([[LOS.T, np.zeros((N, N)), -Ri*k2*D0.T],[-1j*kz*(Up*M*D0).T , LSQ.T, np.zeros((N, N))],[-(Tp*M*D0).T, np.zeros((N, N)), A32.T]]).T\n",
    "\n",
    "    B = np.block([[D2.T-k2*D0.T, np.zeros((N, N)), np.zeros((N, N))], [np.zeros((N, N)), D0.T, np.zeros((N, N))], [np.zeros((N, N)),  np.zeros((N, N)), D0.T]]).T\n",
    "\n",
    "    B[0:N, 0] = D0[:, 0]\n",
    "    B[0:N, 1] = D1[:, 0] # v, Dv at y = top\n",
    "    B[0:N, N-2] = D1[:, N-1]\n",
    "    B[0:N, N-1] = D0[:, N-1] # v, Dv at y = bot\n",
    "\n",
    "    # apply boundary condtions to top and bottom 2 rows (i.e. v = Dv = 0)\n",
    "    A[0:N, 0] = er*D0[:, 0]       # vanishing in the free stream\n",
    "    A[0:N, 1] = er*D1[:, 0]       # vanishing in the free stream\n",
    "    A[0:N, N-2] = er*D1[:, N-1]   # gradient vanishing at wall (no slip)\n",
    "    A[0:N, N-1] = er*D0[:, N-1]   # no penetration at wall\n",
    "\n",
    "    # clear the rows to apply Squire boundary conditions ----------------------\n",
    "    A[:, N] = 0\n",
    "    A[:, 2*N-1] = 0\n",
    "\n",
    "    # apply Squire boundary conditions (eta = 0 at y=top,bot)\n",
    "    A[N:2*N, N] = er*D0[:, 0]\n",
    "    A[N:2*N, 2*N-1] = er*D0[:, N-1] \n",
    "\n",
    "    # apply temperature boundary conditions\n",
    "    A[:, 2*N] = 0\n",
    "    A[:, 3*N-1] = 0\n",
    "\n",
    "    A[2*N:3*N, 2*N] = er*D0[:, 0]\n",
    "    A[2*N:3*N, 3*N-1] = er*D0[:, N-1]\n",
    "    return A, B"
   ]
  },
  {
   "cell_type": "code",
   "execution_count": 10,
   "metadata": {},
   "outputs": [],
   "source": [
    "# Find eigenvalues of stability operators\n",
    "A, B = Operator(kx,kz,R,Pr,Ri,U,Up,Upp,Tp,D0p,D1p,D2p,D4p)\n",
    "\n"
   ]
  },
  {
   "cell_type": "code",
   "execution_count": 11,
   "metadata": {},
   "outputs": [],
   "source": [
    "# find eigenvalues\n",
    "omega, q = np.linalg.eig(np.linalg.inv(B) @ A)\n",
    "\n",
    "omega = 1j*omega   # eigenvalues omega in vector form"
   ]
  },
  {
   "cell_type": "code",
   "execution_count": 23,
   "metadata": {},
   "outputs": [],
   "source": [
    "# find eigenvalues\n",
    "omega_mat, q_mat = np.linalg.eig(np.linalg.inv(mat_data['B']) @ mat_data['A'])\n",
    "\n",
    "omega_mat = 1j*omega_mat   # eigenvalues omega in vector form"
   ]
  },
  {
   "cell_type": "code",
   "execution_count": 24,
   "metadata": {},
   "outputs": [],
   "source": [
    "# remove bad eigenvalues\n",
    "sp = np.logical_and(abs(omega)>1e-10, abs(omega)<50)\n",
    "\n",
    "omega = omega[sp]\n",
    "q = q[sp]"
   ]
  },
  {
   "cell_type": "code",
   "execution_count": 25,
   "metadata": {},
   "outputs": [],
   "source": [
    "# remove bad eigenvalues\n",
    "sp_mat = np.logical_and(abs(mat_data['omega'])>1e-10, abs(mat_data['omega'])<50)\n",
    "\n",
    "mat_data['omega'] = mat_data['omega'][sp_mat]\n",
    "mat_data['q'] = mat_data['q'][:, np.squeeze(sp_mat)]"
   ]
  },
  {
   "cell_type": "code",
   "execution_count": 32,
   "metadata": {},
   "outputs": [
    {
     "data": {
      "text/plain": [
       "(-10.0, 5.0)"
      ]
     },
     "execution_count": 32,
     "metadata": {},
     "output_type": "execute_result"
    },
    {
     "data": {
      "image/png": "[encoded data removed]",
      "text/plain": [
       "<Figure size 750x600 with 1 Axes>"
      ]
     },
     "metadata": {},
     "output_type": "display_data"
    }
   ],
   "source": [
    "fig, ax = plt.subplots(figsize=(5, 4), dpi=150)\n",
    "ax.scatter(np.real(omega), np.imag(omega), marker='.', color='navy', alpha=0.3, label='python')\n",
    "ax.scatter(np.real(mat_data['omega']), np.imag(mat_data['omega']), marker='x', color='red', alpha=0.3, label='matlab')\n",
    "ax.scatter(np.real(omega_mat), np.imag(omega_mat), marker='.', color='green', alpha=0.3, label='pylab')\n",
    "\n",
    "ax.legend()\n",
    "ax.set_xlim(0, 0.5)\n",
    "ax.set_ylim(-10, 5)"
   ]
  }
 ],
 "metadata": {
  "kernelspec": {
   "display_name": ".venv",
   "language": "python",
   "name": "python3"
  },
  "language_info": {
   "codemirror_mode": {
    "name": "ipython",
    "version": 3
   },
   "file_extension": ".py",
   "mimetype": "text/x-python",
   "name": "python",
   "nbconvert_exporter": "python",
   "pygments_lexer": "ipython3",
   "version": "3.10.12"
  },
  "orig_nbformat": 4
 },
 "nbformat": 4,
 "nbformat_minor": 2
}
