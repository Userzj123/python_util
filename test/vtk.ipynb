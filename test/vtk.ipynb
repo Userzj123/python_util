{
 "cells": [
  {
   "cell_type": "code",
   "execution_count": 29,
   "metadata": {},
   "outputs": [
    {
     "name": "stdout",
     "output_type": "stream",
     "text": [
      "Saved VTK RectilinearGrid to example_rectilinear_grid.vtr\n"
     ]
    }
   ],
   "source": [
    "import vtk\n",
    "import numpy as np\n",
    "from vtk.util.numpy_support import vtk_to_numpy, numpy_to_vtk\n",
    "\n",
    "\n",
    "# Define the dimensions of the grid\n",
    "nx, ny, nz = 10, 20, 5\n",
    "\n",
    "# Create the coordinate arrays\n",
    "x = np.linspace(0, 1, nx)\n",
    "y = np.linspace(0, 1, ny)\n",
    "z = np.linspace(0, 1, nz)\n",
    "\n",
    "# Create the VTK RectilinearGrid\n",
    "grid = vtk.vtkRectilinearGrid()\n",
    "grid.SetDimensions(nx, ny, nz)\n",
    "grid.SetXCoordinates(numpy_to_vtk(x))\n",
    "grid.SetYCoordinates(numpy_to_vtk(y))\n",
    "grid.SetZCoordinates(numpy_to_vtk(z))\n",
    "\n",
    "# Create some example data to associate with the grid points\n",
    "data_values = np.random.rand(nx, ny, nz).astype('f').flatten('F')\n",
    "\n",
    "# Create a VTK array for the data\n",
    "data_array = vtk.vtkFloatArray()\n",
    "data_array.SetName(\"RandomData\")\n",
    "data_array.SetNumberOfComponents(1)\n",
    "data_array.SetArray(data_values, len(data_values), 1)\n",
    "\n",
    "# Add the data array to the grid\n",
    "grid.GetPointData().AddArray(data_array)\n",
    "\n",
    "# Create a VTK writer\n",
    "writer = vtk.vtkXMLRectilinearGridWriter()\n",
    "output_filename = \"./example_rectilinear_grid.vtr\"\n",
    "writer.SetFileName(output_filename)\n",
    "\n",
    "# Write the grid to a VTK file\n",
    "writer.SetInputData(grid)\n",
    "writer.Write()\n",
    "\n",
    "print(f\"Saved VTK RectilinearGrid to {output_filename}\")"
   ]
  }
 ],
 "metadata": {
  "kernelspec": {
   "display_name": ".venv",
   "language": "python",
   "name": "python3"
  },
  "language_info": {
   "codemirror_mode": {
    "name": "ipython",
    "version": 3
   },
   "file_extension": ".py",
   "mimetype": "text/x-python",
   "name": "python",
   "nbconvert_exporter": "python",
   "pygments_lexer": "ipython3",
   "version": "3.10.9"
  },
  "orig_nbformat": 4
 },
 "nbformat": 4,
 "nbformat_minor": 2
}
