{
 "cells": [
  {
   "cell_type": "code",
   "execution_count": 1,
   "metadata": {},
   "outputs": [],
   "source": [
    "import matplotlib.pyplot as plt\n",
    "import numpy as np\n",
    "import os\n",
    "import glob\n",
    "import imageio"
   ]
  },
  {
   "cell_type": "code",
   "execution_count": 2,
   "metadata": {},
   "outputs": [],
   "source": [
    "def general_gif(tt, plt_func, pltfunc_args, **kwargs):\n",
    "    import os\n",
    "    import imageio\n",
    "    \n",
    "    defaultKwargs = {\n",
    "        'gif_fname' : './result.gif' \n",
    "    }\n",
    "\n",
    "    kwargs = { **defaultKwargs, **kwargs }\n",
    "    \n",
    "    \n",
    "    gif_dir = './tmp_gif'\n",
    "    if not os.path.exists(gif_dir):\n",
    "        os.makedirs(gif_dir)\n",
    "    filenames = []\n",
    "    for it in tt:\n",
    "        pltfunc_args['lesgo_data'].read_data(it)\n",
    "        pltfunc_args['lesgo_data'].current_tstep = it\n",
    "        fig, ax = plt_func(**pltfunc_args)\n",
    "        \n",
    "        # create file name and append it to a list\n",
    "        filename = gif_dir + f'/%.5i.png' % it\n",
    "        filenames.append(filename)\n",
    "        \n",
    "        # save frame\n",
    "        fig.savefig(filename, bbox_inches='tight')\n",
    "        plt.close()\n",
    "    # build gif\n",
    "    with imageio.get_writer(kwargs['gif_fname'], mode='I') as writer:\n",
    "        for filename in filenames:\n",
    "            image = imageio.imread(filename)\n",
    "            writer.append_data(image)\n",
    "            \n",
    "    # Remove files\n",
    "    for filename in set(filenames):\n",
    "        os.remove(filename)\n",
    "    return "
   ]
  },
  {
   "cell_type": "code",
   "execution_count": 3,
   "metadata": {},
   "outputs": [
    {
     "name": "stdout",
     "output_type": "stream",
     "text": [
      "['/Users/user/Downloads/animation/forward.0000.png', '/Users/user/Downloads/animation/forward.0001.png', '/Users/user/Downloads/animation/forward.0002.png', '/Users/user/Downloads/animation/forward.0003.png', '/Users/user/Downloads/animation/forward.0004.png', '/Users/user/Downloads/animation/forward.0005.png', '/Users/user/Downloads/animation/forward.0006.png', '/Users/user/Downloads/animation/forward.0007.png', '/Users/user/Downloads/animation/forward.0008.png', '/Users/user/Downloads/animation/forward.0009.png', '/Users/user/Downloads/animation/forward.0010.png', '/Users/user/Downloads/animation/forward.0011.png', '/Users/user/Downloads/animation/forward.0012.png', '/Users/user/Downloads/animation/forward.0013.png', '/Users/user/Downloads/animation/forward.0014.png', '/Users/user/Downloads/animation/forward.0015.png', '/Users/user/Downloads/animation/forward.0016.png', '/Users/user/Downloads/animation/forward.0017.png', '/Users/user/Downloads/animation/forward.0018.png', '/Users/user/Downloads/animation/forward.0019.png', '/Users/user/Downloads/animation/forward.0020.png', '/Users/user/Downloads/animation/forward.0021.png', '/Users/user/Downloads/animation/forward.0022.png', '/Users/user/Downloads/animation/forward.0023.png', '/Users/user/Downloads/animation/forward.0024.png', '/Users/user/Downloads/animation/forward.0025.png', '/Users/user/Downloads/animation/forward.0026.png', '/Users/user/Downloads/animation/forward.0027.png', '/Users/user/Downloads/animation/forward.0028.png', '/Users/user/Downloads/animation/forward.0029.png', '/Users/user/Downloads/animation/forward.0030.png', '/Users/user/Downloads/animation/forward.0031.png', '/Users/user/Downloads/animation/forward.0032.png']\n"
     ]
    }
   ],
   "source": [
    "data_dir = \"/Users/user/Downloads/animation\"\n",
    "filenames = []\n",
    "for file in sorted(glob.glob(data_dir+'/*.png')):\n",
    "    filenames.append(os.path.join(data_dir, file))\n",
    "print(filenames)"
   ]
  },
  {
   "cell_type": "code",
   "execution_count": 4,
   "metadata": {},
   "outputs": [
    {
     "name": "stderr",
     "output_type": "stream",
     "text": [
      "/var/folders/k8/qt94yf_n5xgbshl47l1m1drr0000gn/T/ipykernel_71958/4263303039.py:3: DeprecationWarning: Starting with ImageIO v3 the behavior of this function will switch to that of iio.v3.imread. To keep the current behavior (and make this warning disappear) use `import imageio.v2 as imageio` or call `imageio.v2.imread` directly.\n",
      "  image = imageio.imread(filename)\n"
     ]
    }
   ],
   "source": [
    "with imageio.get_writer(\"./test.gif\", mode='I') as writer:\n",
    "    for filename in filenames:\n",
    "        image = imageio.imread(filename)\n",
    "        writer.append_data(image)"
   ]
  }
 ],
 "metadata": {
  "kernelspec": {
   "display_name": "turb",
   "language": "python",
   "name": "python3"
  },
  "language_info": {
   "codemirror_mode": {
    "name": "ipython",
    "version": 3
   },
   "file_extension": ".py",
   "mimetype": "text/x-python",
   "name": "python",
   "nbconvert_exporter": "python",
   "pygments_lexer": "ipython3",
   "version": "3.10.12"
  }
 },
 "nbformat": 4,
 "nbformat_minor": 2
}
