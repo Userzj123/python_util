{
 "cells": [
  {
   "cell_type": "code",
   "execution_count": 1,
   "metadata": {},
   "outputs": [],
   "source": [
    "import numpy as np\n",
    "\n",
    "lesgoconf_f = r'/home/zyou6474/Projects/lesgo_eri/src/lesgo.conf'"
   ]
  },
  {
   "cell_type": "code",
   "execution_count": 2,
   "metadata": {},
   "outputs": [],
   "source": [
    "from pathlib import Path\n",
    "txt = Path(lesgoconf_f).read_text()"
   ]
  },
  {
   "cell_type": "code",
   "execution_count": 12,
   "metadata": {},
   "outputs": [],
   "source": [
    "test = \"\"\"\n",
    "! Domain parameters\n",
    "DOMAIN {\n",
    "\n",
    "  ! Specify the number of processors to use (this is mainly to add\n",
    "  ! compliance with other preprocessing programs)\n",
    "  nproc = 16\n",
    "\n",
    "}\n",
    "\"\"\""
   ]
  },
  {
   "cell_type": "code",
   "execution_count": 20,
   "metadata": {},
   "outputs": [
    {
     "name": "stdout",
     "output_type": "stream",
     "text": [
      "[['!',\n",
      "  ' Domain parameters',\n",
      "  'DOMAIN',\n",
      "  ['!',\n",
      "   ' Specify the number of processors to use (this is mainly to add',\n",
      "   '!',\n",
      "   ' compliance with other preprocessing programs)',\n",
      "   'nproc',\n",
      "   '=',\n",
      "   '16']]]\n"
     ]
    }
   ],
   "source": [
    "import pprint\n",
    "from pyparsing import *\n",
    "\n",
    "def syntax():\n",
    "    NL = LineEnd().suppress()\n",
    "    END = StringEnd()\n",
    "\n",
    "    comment_header1= '!'\n",
    "    # any_header = (comment_header1 | comment_header2)\n",
    "    # text isn't just anything! don't accept header line, and stop at the end of the input string\n",
    "    comment=comment_header1 + ~END + restOfLine\n",
    "\n",
    "    lbr = Literal( '{' ).suppress()\n",
    "    rbr = Literal( '}' ).suppress()\n",
    "    \n",
    "    varname = Word ( alphas, alphanums)\n",
    "    varvalue = Word(nums)\n",
    "    var = Group(ZeroOrMore(comment) + varname + '=' + OneOrMore(varvalue))\n",
    "    \n",
    "    blockname = Word( alphas.upper())\n",
    "\n",
    "    overall_structure = ZeroOrMore(comment) + OneOrMore(Group(OneOrMore(comment) + blockname +    lbr + OneOrMore(var) + rbr))\n",
    "    overall_structure.ignore(NL)\n",
    "    \n",
    "    return overall_structure\n",
    "\n",
    "expr = syntax()\n",
    "result = expr.parseString(test).asList()\n",
    "pprint.pprint(result)"
   ]
  }
 ],
 "metadata": {
  "kernelspec": {
   "display_name": ".venv",
   "language": "python",
   "name": "python3"
  },
  "language_info": {
   "codemirror_mode": {
    "name": "ipython",
    "version": 3
   },
   "file_extension": ".py",
   "mimetype": "text/x-python",
   "name": "python",
   "nbconvert_exporter": "python",
   "pygments_lexer": "ipython3",
   "version": "3.10.9"
  },
  "orig_nbformat": 4
 },
 "nbformat": 4,
 "nbformat_minor": 2
}
