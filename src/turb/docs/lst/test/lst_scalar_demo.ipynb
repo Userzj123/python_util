{
 "cells": [
  {
   "cell_type": "code",
   "execution_count": 1,
   "metadata": {},
   "outputs": [],
   "source": [
    "from turb.lst_scalar import lst_scalar\n",
    "from scipy.io import loadmat\n",
    "import numpy as np"
   ]
  },
  {
   "cell_type": "code",
   "execution_count": 2,
   "metadata": {},
   "outputs": [
    {
     "name": "stdout",
     "output_type": "stream",
     "text": [
      "dict_keys(['__header__', '__version__', '__globals__', 'A', 'B', 'D0p', 'D1p', 'D2p', 'D3p', 'D4p', 'E', 'M', 'N', 'Pr', 'R', 'Ra', 'Ri', 'T', 'Temperature', 'Tp', 'U', 'Up', 'Upp', 'V', 'aa', 'ans', 'bf', 'cf', 'ctl', 'dt', 'epsilon', 'fontsize_', 'None', 'ind', 'input', 'k2', 'kx', 'kz', 'linewidth_', 'omega', 'output', 'q', 'sp', 'tickfontsize_', 'tt', 'x', 'y_low', 'y_phys', 'y_top', '__function_workspace__'])\n"
     ]
    },
    {
     "name": "stderr",
     "output_type": "stream",
     "text": [
      "/opt/anaconda3/envs/turb/lib/python3.10/site-packages/scipy/io/matlab/_mio.py:227: MatReadWarning: Duplicate variable name \"None\" in stream - replacing previous with new\n",
      "Consider mio5.varmats_from_mat to split file into single variable files\n",
      "  matfile_dict = MR.get_variables(variable_names)\n"
     ]
    }
   ],
   "source": [
    "mat_f = r'/Users/user/Documents/Projects/python_util/data/scalar_LST_matlab_linux.mat'\n",
    "mat_data = loadmat(mat_f)\n",
    "print(mat_data.keys())"
   ]
  },
  {
   "cell_type": "code",
   "execution_count": 3,
   "metadata": {},
   "outputs": [
    {
     "data": {
      "text/html": [
       "\n",
       "        <iframe\n",
       "            width=\"100%\"\n",
       "            height=\"650\"\n",
       "            src=\"http://127.0.0.1:8050/\"\n",
       "            frameborder=\"0\"\n",
       "            allowfullscreen\n",
       "            \n",
       "        ></iframe>\n",
       "        "
      ],
      "text/plain": [
       "<IPython.lib.display.IFrame at 0x7faa1a8cbd30>"
      ]
     },
     "metadata": {},
     "output_type": "display_data"
    },
    {
     "data": {
      "text/plain": [
       "<dash.dash.Dash at 0x7faa1a8636d0>"
      ]
     },
     "execution_count": 3,
     "metadata": {},
     "output_type": "execute_result"
    }
   ],
   "source": [
    "channel_lst = lst_scalar(384, 2)\n",
    "channel_lst.visual(channel_lst.y_phys, mat_data[\"omega\"], mat_data[\"Temperature\"])"
   ]
  }
 ],
 "metadata": {
  "kernelspec": {
   "display_name": "turb",
   "language": "python",
   "name": "python3"
  },
  "language_info": {
   "codemirror_mode": {
    "name": "ipython",
    "version": 3
   },
   "file_extension": ".py",
   "mimetype": "text/x-python",
   "name": "python",
   "nbconvert_exporter": "python",
   "pygments_lexer": "ipython3",
   "version": "3.10.12"
  },
  "orig_nbformat": 4
 },
 "nbformat": 4,
 "nbformat_minor": 2
}
