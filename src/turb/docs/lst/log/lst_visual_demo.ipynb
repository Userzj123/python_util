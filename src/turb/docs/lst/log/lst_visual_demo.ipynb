{
 "cells": [
  {
   "cell_type": "code",
   "execution_count": 1,
   "metadata": {},
   "outputs": [],
   "source": [
    "import numpy as np\n",
    "import matplotlib.pyplot as plt\n",
    "from scipy import linalg\n",
    "from scipy.io import loadmat\n",
    "\n",
    "from dash import Dash, html, dcc, Input, Output, callback\n",
    "import pandas as pd\n",
    "import plotly.express as px\n",
    "\n",
    "from turb.lst_scalar import lst_scalar\n",
    "\n",
    "import plotly.graph_objects as go"
   ]
  },
  {
   "cell_type": "code",
   "execution_count": 2,
   "metadata": {},
   "outputs": [
    {
     "name": "stdout",
     "output_type": "stream",
     "text": [
      "dict_keys(['__header__', '__version__', '__globals__', 'A', 'B', 'D0p', 'D1p', 'D2p', 'D3p', 'D4p', 'E', 'M', 'N', 'Pr', 'R', 'Ra', 'Ri', 'T', 'Temperature', 'Tp', 'U', 'Up', 'Upp', 'V', 'aa', 'ans', 'bf', 'cf', 'ctl', 'dt', 'epsilon', 'fontsize_', 'None', 'ind', 'input', 'k2', 'kx', 'kz', 'linewidth_', 'omega', 'output', 'q', 'sp', 'tickfontsize_', 'tt', 'x', 'y_low', 'y_phys', 'y_top', '__function_workspace__'])\n"
     ]
    },
    {
     "name": "stderr",
     "output_type": "stream",
     "text": [
      "/opt/anaconda3/envs/turb/lib/python3.10/site-packages/scipy/io/matlab/_mio.py:227: MatReadWarning: Duplicate variable name \"None\" in stream - replacing previous with new\n",
      "Consider mio5.varmats_from_mat to split file into single variable files\n",
      "  matfile_dict = MR.get_variables(variable_names)\n"
     ]
    }
   ],
   "source": [
    "mat_f = r'/Users/user/Documents/Projects/python_util/data/scalar_LST_matlab_linux.mat'\n",
    "mat_data = loadmat(mat_f)\n",
    "print(mat_data.keys())"
   ]
  },
  {
   "cell_type": "code",
   "execution_count": 3,
   "metadata": {},
   "outputs": [],
   "source": [
    "df2 = pd.DataFrame(\n",
    "   dict(\n",
    "      # eigvals = mat_data['omega'][:, 0],\n",
    "      eigvals_real = np.real(mat_data['omega'][:, 0]),\n",
    "      eigvals_imag = np.imag(mat_data['omega'][:, 0]),\n",
    "      eigvecs = [mat_data['Temperature'][:, ind] for ind in range(mat_data['omega'].shape[0])],\n",
    "   )\n",
    ")\n",
    "df2[\"group\"] = \"solver\"\n",
    "\n",
    "result_y = mat_data[\"y_phys\"][:, 0]"
   ]
  },
  {
   "cell_type": "code",
   "execution_count": 4,
   "metadata": {},
   "outputs": [],
   "source": [
    "channel_lst = lst_scalar(384, 2)\n",
    "# Temperature = channel_lst.D0 @ channel_lst.q[:,:]\n",
    "Temperature = channel_lst.Temperature\n",
    "df1 = pd.DataFrame(\n",
    "   dict(\n",
    "      # eigvals = channel_lst.omega,\n",
    "      eigvals_real = np.real(channel_lst.omega),\n",
    "      eigvals_imag = np.imag(channel_lst.omega),\n",
    "      eigvecs = [Temperature[:, ind] for ind in range(channel_lst.omega.shape[0])],\n",
    "   )\n",
    ")\n",
    "y_phys = channel_lst.y_phys[:, 0]\n",
    "\n",
    "df1[\"group\"] = \"LST\""
   ]
  },
  {
   "cell_type": "code",
   "execution_count": 5,
   "metadata": {},
   "outputs": [],
   "source": [
    "frames = [df1, df2]\n",
    "df = pd.concat(frames, ignore_index=True)"
   ]
  },
  {
   "cell_type": "code",
   "execution_count": 6,
   "metadata": {},
   "outputs": [],
   "source": [
    "marker_types = [dict(size=12, symbol=\"circle\", ), dict(size=8, symbol=\"x\", )]"
   ]
  },
  {
   "cell_type": "code",
   "execution_count": 11,
   "metadata": {},
   "outputs": [],
   "source": [
    "external_stylesheets = ['https://codepen.io/chriddyp/pen/bWLwgP.css']\n",
    "\n",
    "app = Dash(__name__, external_stylesheets=external_stylesheets)\n",
    "\n",
    "\n",
    "app.layout = html.Div([\n",
    "    html.Div([\n",
    "\n",
    "        html.Div([\n",
    "            \"Layer Number: \",\n",
    "            dcc.Input(id='layer_number', value=384, type='number')\n",
    "        ], style={'width': '49%', 'display': 'inline-block', 'padding': '0 20'}),\n",
    "    ]),\n",
    "    html.Br(),\n",
    "\n",
    "    html.Div([\n",
    "        html.Div([\n",
    "            html.Label('Display result'),\n",
    "            dcc.Checklist(id=\"display_classes\", options=df[\"group\"].unique(),\n",
    "                        value = []\n",
    "            ),\n",
    "        ], style={'width': '49%', 'display': 'inline-block', 'padding': '0 20'}),\n",
    "\n",
    "        \n",
    "        html.Div(children=[\n",
    "            html.Div(children=[\n",
    "                \"LST Index: \",\n",
    "                dcc.Input(id='lst_index', value=0, type='number'),\n",
    "                html.Div(id=\"group1_eigenvalues\" )\n",
    "            ], ),\n",
    "            \n",
    "            html.Div([\n",
    "                \"solver Index: \",\n",
    "                dcc.Input(id='result_index', value=0, type='number'),\n",
    "                html.Div(id=\"group2_eigenvalues\" )\n",
    "            ],),\n",
    "        ], style={'width': '24%', 'display': 'inline-block'}),\n",
    "    ]),\n",
    "    \n",
    "    html.Div([\n",
    "\n",
    "        html.Div([\n",
    "            dcc.Graph(\n",
    "                id='eigenvals_plot',\n",
    "                clickData={'points': [{'hovertext': 0, 'curveNumber' : 0}]}\n",
    "            )\n",
    "        ], style={'width': '49%', 'display': 'inline-block', 'padding': '0 20'}),\n",
    "\n",
    "\n",
    "        html.Div([\n",
    "            dcc.Graph(id='eigenvector_plot',)\n",
    "        ], style={'display': 'inline-block', 'width': '49%'})\n",
    "    ]),\n",
    "])\n",
    "\n",
    "def create_eigvec_plot(y, eigvec, title):\n",
    "    fig = px.scatter(x=y, y=eigvec[-y.shape[0]:])\n",
    "    fig.update_traces(mode='lines+markers')\n",
    "\n",
    "    fig.update_xaxes(showgrid=False)\n",
    "\n",
    "    fig.add_annotation(x=0, y=0.85, xanchor='left', yanchor='bottom',\n",
    "                       xref='paper', yref='paper', showarrow=False, align='left',\n",
    "                       text=title)\n",
    "\n",
    "    fig.update_layout(height=225, margin={'l': 20, 'b': 30, 'r': 10, 't': 10})\n",
    "    \n",
    "    return fig\n",
    "\n",
    "@callback(\n",
    "    Output('eigenvals_plot', 'figure'),\n",
    "    Input('layer_number', 'value'),\n",
    "    Input(\"display_classes\", \"value\")\n",
    ")\n",
    "def update_graph(layer_number, display_class):\n",
    "    # fig = px.scatter(df, x=\"eigvals_real\", y = \"eigvals_imag\", color=\"group\", symbol=\"group\", hover_name=df.index)\n",
    "    \n",
    "    fig = go.Figure()\n",
    "\n",
    "    # Add traces\n",
    "    for ind, cls in enumerate(df[\"group\"].unique()):\n",
    "        if cls in display_class:\n",
    "            fig.add_trace(go.Scatter(x=df[df[\"group\"]==cls][\"eigvals_real\"], y = df[df[\"group\"]==cls][\"eigvals_imag\"], hovertext=df[df[\"group\"]==cls].index, opacity=0.5, marker=marker_types[ind],\n",
    "                                mode='markers',\n",
    "                                name=df[\"group\"].unique()[ind]))\n",
    "            \n",
    "    return fig\n",
    "\n",
    "\n",
    "@callback(\n",
    "    Output('eigenvector_plot', 'figure'),\n",
    "    Output('lst_index', 'value'),\n",
    "    Output('result_index', 'value'),\n",
    "    Output(\"group1_eigenvalues\", \"children\"),\n",
    "    Output(\"group2_eigenvalues\", \"children\"),\n",
    "    Input('eigenvals_plot', 'clickData'),\n",
    "    Input('layer_number', 'value'),\n",
    "    Input('lst_index', 'value'),\n",
    "    Input('result_index', 'value'),\n",
    ")\n",
    "def update_eigenmode(clickData, layer_number, lst_ind, result_ind):\n",
    "    norm_eigvec = lambda eigvecs: np.abs(eigvecs)/np.max(np.abs(eigvecs))\n",
    "    \n",
    "    \n",
    "    print(clickData)\n",
    "    eig_ind = clickData[\"points\"][0]['hovertext']\n",
    "    group = clickData[\"points\"][0][\"curveNumber\"] # 0 - LST, 1 - result\n",
    "    \n",
    "    ind_set = [lst_ind, result_ind]\n",
    "    if eig_ind in df[df[\"group\"]==df[\"group\"].unique()[0]].index:\n",
    "        ind_set[0] = eig_ind\n",
    "    if eig_ind in df[df[\"group\"]==df[\"group\"].unique()[1]].index:\n",
    "        ind_set[1] = eig_ind\n",
    "\n",
    "\n",
    "    # fig = px.line(x= y_phys, y= np.abs(df['eigvecs'][lst_ind]))\n",
    "    mode_types = [\"markers\", \"lines\"]\n",
    "    \n",
    "    fig = go.Figure()\n",
    "\n",
    "    # Add traces\n",
    "    for ind, cls in enumerate(df[\"group\"].unique()):\n",
    "            fig.add_trace(go.Scatter(x=y_phys, y=norm_eigvec(np.abs(df['eigvecs'][ind_set[ind]])), marker=marker_types[ind],\n",
    "                                mode=mode_types[ind],\n",
    "                                name=df[\"group\"].unique()[ind]))\n",
    "        # fig.add_trace(go.Scatter(x=result_y, y=np.abs(df['eigvecs'][result_ind]),\n",
    "        #                     mode='lines',\n",
    "        #                     name=df[\"group\"].unique()[1]))\n",
    "    \n",
    "    group1_eigvals = \"%f + %f i\" %(df['eigvals_real'][ind_set[0]], df['eigvals_imag'][ind_set[0]])\n",
    "    group2_eigvals = \"%f + %f i\" %(df['eigvals_real'][ind_set[1]], df['eigvals_imag'][ind_set[1]])\n",
    "\n",
    "\n",
    "\n",
    "    return fig, ind_set[0], ind_set[1], group1_eigvals, group2_eigvals\n"
   ]
  },
  {
   "cell_type": "code",
   "execution_count": 12,
   "metadata": {},
   "outputs": [
    {
     "data": {
      "text/html": [
       "\n",
       "        <iframe\n",
       "            width=\"100%\"\n",
       "            height=\"650\"\n",
       "            src=\"http://127.0.0.1:8050/\"\n",
       "            frameborder=\"0\"\n",
       "            allowfullscreen\n",
       "            \n",
       "        ></iframe>\n",
       "        "
      ],
      "text/plain": [
       "<IPython.lib.display.IFrame at 0x7fae496d0e80>"
      ]
     },
     "metadata": {},
     "output_type": "display_data"
    },
    {
     "name": "stdout",
     "output_type": "stream",
     "text": [
      "{'points': [{'hovertext': 0, 'curveNumber': 0}]}\n"
     ]
    }
   ],
   "source": [
    "app.run(debug=True)"
   ]
  }
 ],
 "metadata": {
  "kernelspec": {
   "display_name": "turb",
   "language": "python",
   "name": "python3"
  },
  "language_info": {
   "codemirror_mode": {
    "name": "ipython",
    "version": 3
   },
   "file_extension": ".py",
   "mimetype": "text/x-python",
   "name": "python",
   "nbconvert_exporter": "python",
   "pygments_lexer": "ipython3",
   "version": "3.10.12"
  },
  "orig_nbformat": 4
 },
 "nbformat": 4,
 "nbformat_minor": 2
}
